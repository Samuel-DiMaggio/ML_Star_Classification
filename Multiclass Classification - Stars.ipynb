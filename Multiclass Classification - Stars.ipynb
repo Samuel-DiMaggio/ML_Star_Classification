{
 "cells": [
  {
   "cell_type": "markdown",
   "id": "901e1ff7",
   "metadata": {},
   "source": [
    "# Stars Dataset - Multiclass Classification Using Logistic Regression, Support Vector Machine, and Random Forest Algorithms\n",
    "\n",
    "## Purpose:\n",
    "The purpose for this project is to use machine learning techniques, such as logistical regression, support vector machine, and random forest algorithms to predict multiple classes for a set of data. For this project, in particular, will focus on a dataset set of 240 stars to predict classes of star based on features provided by the dataset and evaluate which technique works best for these predictions. \n",
    "\n",
    "## Data Source And Method of Collection\n",
    "The dataset was collected from kaggle.com, under title \"Star dataset to Predict Star Types\" from Deepraj Baidya (The link is provided below). Deepraj describe the purpose for this dataset as, \"to prove that the star follow a certain graph in th celestial space, called the Hertzsprung-Russell Diagram or otherwise known as the HR-Diagram\". According to this link, Deepraj indicated that this dataset took around 3 weeks to collect data on 240 stars and missing data was manually calculated from the following astrophysics equations:\n",
    "\n",
    "1. Stefan-Boltzmann's law of Black body radiation (To find the luminosity of a star)\n",
    "2. Wienn's Displacement law (for finding surface temperature of a star using wavelength)\n",
    "3. Absolute magnitude relation\n",
    "4. Radius of a star using parallax.\n",
    "\n",
    "#### Dataset: https://www.kaggle.com/deepu1109/star-dataset\n",
    "\n",
    "#### Other Helpful links for about the equations used:\n",
    "\n",
    "* Stefan-Boltzmann's Law: http://hyperphysics.phy-astr.gsu.edu/hbase/thermo/stefan.html\n",
    "* Wienn's Displacement Law: http://hyperphysics.phy-astr.gsu.edu/hbase/wien.html\n",
    "* Absolute Magnitude Relation: https://en.wikipedia.org/wiki/Absolute_magnitude\n",
    "* Radius of a star using parallax:https://www.youtube.com/watch?v=FnFkb5Dw5-A\n",
    "\n",
    "## Key Takeaways from this Project\n",
    "1. During data clean-up identified spelling, grammar, and non-uniformed related errors in the categorical column for Star Color. Reduced 19 color categories to reflect 7 categories. \n",
    "2. Reviewing and comparing each algorithm, the random forest algo. performed the best with an accuracy, precision, and f1-score values of 1.0 (or 100%).\n",
    "3. The logistical regression algo. performed the second best with an accuracy of ~0.958, precision of ~0.966, and f1-score values > 0.85.\n",
    "4. The SVC had the worst out of the three, however still performed well. SVC performed with an accuracy of 0.916, a precision value of 0.933 and f1-score values > 0.86.  \n",
    "\n",
    "## The dataset contains the following column descriptions:\n",
    "1. Absolute Temperature (in K)\n",
    "2. Relative Luminosity (L/Lo)\n",
    "3. Relative Radius (R/Ro)\n",
    "4. Absolute Magnitude (Mv)\n",
    "5. Star Color \n",
    "6. Spectral Class (O,B,A,F,G,K,,M)\n",
    "7. Star Type \n",
    "\n",
    "#### Note:\n",
    "* Lo = 3.828 x 10^26 Watts (Avg Luminosity of Sun)\n",
    "* Ro = 6.9551 x 10^8 m (Avg Radius of Sun)\n",
    "\n",
    "#### Star Type describes the following 6 types of stars:\n",
    "\n",
    "* Brown Dwarf &rarr; Star Type = 0\n",
    "* Red Dwarf &rarr; Star Type = 1\n",
    "* White Dwarf &rarr; Star Type = 2\n",
    "* Main Sequence &rarr; Star Type = 3\n",
    "* Supergiant &rarr; Star Type = 4\n",
    "* Hypergiant &rarr; Star Type = 5"
   ]
  },
  {
   "cell_type": "markdown",
   "id": "410c93a0",
   "metadata": {},
   "source": [
    "## Load and Clean the Data\n",
    "\n",
    "First, we load the data into memory using pandas"
   ]
  },
  {
   "cell_type": "code",
   "execution_count": 1,
   "id": "8fc89759",
   "metadata": {
    "scrolled": false
   },
   "outputs": [
    {
     "data": {
      "text/html": [
       "<div>\n",
       "<style scoped>\n",
       "    .dataframe tbody tr th:only-of-type {\n",
       "        vertical-align: middle;\n",
       "    }\n",
       "\n",
       "    .dataframe tbody tr th {\n",
       "        vertical-align: top;\n",
       "    }\n",
       "\n",
       "    .dataframe thead th {\n",
       "        text-align: right;\n",
       "    }\n",
       "</style>\n",
       "<table border=\"1\" class=\"dataframe\">\n",
       "  <thead>\n",
       "    <tr style=\"text-align: right;\">\n",
       "      <th></th>\n",
       "      <th>Temperature (K)</th>\n",
       "      <th>Luminosity(L/Lo)</th>\n",
       "      <th>Radius(R/Ro)</th>\n",
       "      <th>Absolute magnitude(Mv)</th>\n",
       "      <th>Star type</th>\n",
       "      <th>Star color</th>\n",
       "      <th>Spectral Class</th>\n",
       "    </tr>\n",
       "  </thead>\n",
       "  <tbody>\n",
       "    <tr>\n",
       "      <th>0</th>\n",
       "      <td>3068</td>\n",
       "      <td>0.002400</td>\n",
       "      <td>0.1700</td>\n",
       "      <td>16.12</td>\n",
       "      <td>0</td>\n",
       "      <td>Red</td>\n",
       "      <td>M</td>\n",
       "    </tr>\n",
       "    <tr>\n",
       "      <th>1</th>\n",
       "      <td>3042</td>\n",
       "      <td>0.000500</td>\n",
       "      <td>0.1542</td>\n",
       "      <td>16.60</td>\n",
       "      <td>0</td>\n",
       "      <td>Red</td>\n",
       "      <td>M</td>\n",
       "    </tr>\n",
       "    <tr>\n",
       "      <th>2</th>\n",
       "      <td>2600</td>\n",
       "      <td>0.000300</td>\n",
       "      <td>0.1020</td>\n",
       "      <td>18.70</td>\n",
       "      <td>0</td>\n",
       "      <td>Red</td>\n",
       "      <td>M</td>\n",
       "    </tr>\n",
       "    <tr>\n",
       "      <th>3</th>\n",
       "      <td>2800</td>\n",
       "      <td>0.000200</td>\n",
       "      <td>0.1600</td>\n",
       "      <td>16.65</td>\n",
       "      <td>0</td>\n",
       "      <td>Red</td>\n",
       "      <td>M</td>\n",
       "    </tr>\n",
       "    <tr>\n",
       "      <th>4</th>\n",
       "      <td>1939</td>\n",
       "      <td>0.000138</td>\n",
       "      <td>0.1030</td>\n",
       "      <td>20.06</td>\n",
       "      <td>0</td>\n",
       "      <td>Red</td>\n",
       "      <td>M</td>\n",
       "    </tr>\n",
       "  </tbody>\n",
       "</table>\n",
       "</div>"
      ],
      "text/plain": [
       "   Temperature (K)  Luminosity(L/Lo)  Radius(R/Ro)  Absolute magnitude(Mv)  \\\n",
       "0             3068          0.002400        0.1700                   16.12   \n",
       "1             3042          0.000500        0.1542                   16.60   \n",
       "2             2600          0.000300        0.1020                   18.70   \n",
       "3             2800          0.000200        0.1600                   16.65   \n",
       "4             1939          0.000138        0.1030                   20.06   \n",
       "\n",
       "   Star type Star color Spectral Class  \n",
       "0          0        Red              M  \n",
       "1          0        Red              M  \n",
       "2          0        Red              M  \n",
       "3          0        Red              M  \n",
       "4          0        Red              M  "
      ]
     },
     "execution_count": 1,
     "metadata": {},
     "output_type": "execute_result"
    }
   ],
   "source": [
    "import pandas as pd\n",
    "#loading the Stars dataset\n",
    "stars = pd.read_csv('Stars.csv', low_memory=False)\n",
    "stars.head()"
   ]
  },
  {
   "cell_type": "markdown",
   "id": "0b02432e",
   "metadata": {},
   "source": [
    "Reviewing the data types and whether the data has any missing information."
   ]
  },
  {
   "cell_type": "code",
   "execution_count": 2,
   "id": "e75cf4a0",
   "metadata": {
    "scrolled": true
   },
   "outputs": [
    {
     "data": {
      "text/plain": [
       "Temperature (K)             int64\n",
       "Luminosity(L/Lo)          float64\n",
       "Radius(R/Ro)              float64\n",
       "Absolute magnitude(Mv)    float64\n",
       "Star type                   int64\n",
       "Star color                 object\n",
       "Spectral Class             object\n",
       "dtype: object"
      ]
     },
     "execution_count": 2,
     "metadata": {},
     "output_type": "execute_result"
    }
   ],
   "source": [
    "stars.dtypes"
   ]
  },
  {
   "cell_type": "code",
   "execution_count": 3,
   "id": "d2ffd3d8",
   "metadata": {
    "scrolled": true
   },
   "outputs": [
    {
     "data": {
      "text/plain": [
       "Temperature (K)           0\n",
       "Luminosity(L/Lo)          0\n",
       "Radius(R/Ro)              0\n",
       "Absolute magnitude(Mv)    0\n",
       "Star type                 0\n",
       "Star color                0\n",
       "Spectral Class            0\n",
       "dtype: int64"
      ]
     },
     "execution_count": 3,
     "metadata": {},
     "output_type": "execute_result"
    }
   ],
   "source": [
    "stars.isnull().sum(axis=0)"
   ]
  },
  {
   "cell_type": "markdown",
   "id": "ac2fc6f6",
   "metadata": {},
   "source": [
    "There is no missing values in all columns. But there are several features are categorical variables. Let's look into it."
   ]
  },
  {
   "cell_type": "markdown",
   "id": "60cc48a8",
   "metadata": {},
   "source": [
    "## Convert Categorical Features to Numerical Features \n",
    "\n",
    "We notice that the following features/columns are not numerical variables that include object and int64.\n",
    "+ Star type\n",
    "+ Star Color\n",
    "+ Spectral Class \n",
    "\n",
    "Star type is our label/target, we normally would need to convert it to numerical variable, however in this case it has already been completed. The remaining two will need to be reviewed for errors and have dummy variables created for their respected categories. "
   ]
  },
  {
   "cell_type": "code",
   "execution_count": 4,
   "id": "e725da29",
   "metadata": {},
   "outputs": [
    {
     "data": {
      "text/plain": [
       "0    40\n",
       "1    40\n",
       "2    40\n",
       "3    40\n",
       "4    40\n",
       "5    40\n",
       "Name: Star type, dtype: int64"
      ]
     },
     "execution_count": 4,
     "metadata": {},
     "output_type": "execute_result"
    }
   ],
   "source": [
    "stars['Star type'].value_counts()"
   ]
  },
  {
   "cell_type": "code",
   "execution_count": 5,
   "id": "8e50fccc",
   "metadata": {},
   "outputs": [
    {
     "data": {
      "text/plain": [
       "Temperature (K)              int64\n",
       "Luminosity(L/Lo)           float64\n",
       "Radius(R/Ro)               float64\n",
       "Absolute magnitude(Mv)     float64\n",
       "Star type                 category\n",
       "Star color                  object\n",
       "Spectral Class              object\n",
       "dtype: object"
      ]
     },
     "execution_count": 5,
     "metadata": {},
     "output_type": "execute_result"
    }
   ],
   "source": [
    "stars['Star type'] = stars['Star type'].astype('category')\n",
    "stars.dtypes"
   ]
  },
  {
   "cell_type": "code",
   "execution_count": 6,
   "id": "651e51c0",
   "metadata": {},
   "outputs": [
    {
     "data": {
      "text/plain": [
       "Star color        19\n",
       "Spectral Class     7\n",
       "Name: unique, dtype: object"
      ]
     },
     "execution_count": 6,
     "metadata": {},
     "output_type": "execute_result"
    }
   ],
   "source": [
    "Unique = ['Star color', 'Spectral Class']\n",
    "stars[Unique].describe(include='all').loc['unique', :]"
   ]
  },
  {
   "cell_type": "markdown",
   "id": "cb22a8bc",
   "metadata": {},
   "source": [
    "According to this above information, there are 19 different colors and 7 different spectral classes. Let's delve more into these catergories and see if there are spelling, grammar, or additional errors to address first. If there are any errors detected, we can rename these variables to match or create a equvilent/relatable catergory."
   ]
  },
  {
   "cell_type": "code",
   "execution_count": 7,
   "id": "0294b97a",
   "metadata": {
    "scrolled": false
   },
   "outputs": [
    {
     "data": {
      "text/plain": [
       "Red                   112\n",
       "Blue                   55\n",
       "Blue-white             26\n",
       "Blue White             10\n",
       "yellow-white            8\n",
       "White                   7\n",
       "Blue white              3\n",
       "Yellowish White         3\n",
       "white                   3\n",
       "Whitish                 2\n",
       "Orange                  2\n",
       "yellowish               2\n",
       "Pale yellow orange      1\n",
       "White-Yellow            1\n",
       "Blue                    1\n",
       "Yellowish               1\n",
       "Orange-Red              1\n",
       "Blue white              1\n",
       "Blue-White              1\n",
       "Name: Star color, dtype: int64"
      ]
     },
     "execution_count": 7,
     "metadata": {},
     "output_type": "execute_result"
    }
   ],
   "source": [
    "stars['Star color'].value_counts()"
   ]
  },
  {
   "cell_type": "markdown",
   "id": "d799f79d",
   "metadata": {},
   "source": [
    "So, it looks like there were some spelling/grammar errors and some ambiguity for some colors. Below we will address this issue by creating some new catergorical identifiers."
   ]
  },
  {
   "cell_type": "code",
   "execution_count": 10,
   "id": "a8ac93fb",
   "metadata": {},
   "outputs": [],
   "source": [
    "# Assigning new color identifier for bluish colors\n",
    "stars['Star color'].replace({'Blue-white':'Bluish',\n",
    "                             'Blue White':'Bluish',\n",
    "                             'Blue ':'Bluish',\n",
    "                             'Blue white':'Bluish',\n",
    "                             'Blue-White':'Bluish'}, inplace=True)\n",
    "\n",
    "# Assigning new color identifier for Whitish colors\n",
    "stars['Star color'].replace({'yellow-white':'Off-White',\n",
    "                             'Yellowish White':'Off-White',\n",
    "                             'white':'White',\n",
    "                            'Whitish':'Off-White'}, inplace=True)\n",
    "\n",
    "# Assigning new color identifier for Orange, Yellow, and Red colors\n",
    "stars['Star color'].replace({'Pale yellow orange':'Orange',\n",
    "                             'White-Yellow':'Yellowish',\n",
    "                            'yellowish':'Yellowish',\n",
    "                            'Orange-Red':'Red'}, inplace=True)"
   ]
  },
  {
   "cell_type": "code",
   "execution_count": 11,
   "id": "1b18993b",
   "metadata": {},
   "outputs": [
    {
     "data": {
      "text/plain": [
       "Red          113\n",
       "Blue          55\n",
       "Bluish        42\n",
       "Off-White     13\n",
       "White         10\n",
       "Yellowish      4\n",
       "Orange         3\n",
       "Name: Star color, dtype: int64"
      ]
     },
     "execution_count": 11,
     "metadata": {},
     "output_type": "execute_result"
    }
   ],
   "source": [
    "stars['Star color'].value_counts()"
   ]
  },
  {
   "cell_type": "code",
   "execution_count": 12,
   "id": "6c0c6960",
   "metadata": {},
   "outputs": [
    {
     "data": {
      "text/plain": [
       "M    111\n",
       "B     46\n",
       "O     40\n",
       "A     19\n",
       "F     17\n",
       "K      6\n",
       "G      1\n",
       "Name: Spectral Class, dtype: int64"
      ]
     },
     "execution_count": 12,
     "metadata": {},
     "output_type": "execute_result"
    }
   ],
   "source": [
    "stars['Spectral Class'].value_counts()"
   ]
  },
  {
   "cell_type": "markdown",
   "id": "9a733146",
   "metadata": {},
   "source": [
    "Color and Spectral Class are categorical variables that have only finite many cases. Let's convert them to numerical variables. We use get_dummies function by specifying drop_first = True to **reduce the redundant features**."
   ]
  },
  {
   "cell_type": "code",
   "execution_count": 13,
   "id": "6b88c865",
   "metadata": {},
   "outputs": [
    {
     "data": {
      "text/html": [
       "<div>\n",
       "<style scoped>\n",
       "    .dataframe tbody tr th:only-of-type {\n",
       "        vertical-align: middle;\n",
       "    }\n",
       "\n",
       "    .dataframe tbody tr th {\n",
       "        vertical-align: top;\n",
       "    }\n",
       "\n",
       "    .dataframe thead th {\n",
       "        text-align: right;\n",
       "    }\n",
       "</style>\n",
       "<table border=\"1\" class=\"dataframe\">\n",
       "  <thead>\n",
       "    <tr style=\"text-align: right;\">\n",
       "      <th></th>\n",
       "      <th>Star color_Bluish</th>\n",
       "      <th>Star color_Off-White</th>\n",
       "      <th>Star color_Orange</th>\n",
       "      <th>Star color_Red</th>\n",
       "      <th>Star color_White</th>\n",
       "      <th>Star color_Yellowish</th>\n",
       "      <th>Spectral Class_B</th>\n",
       "      <th>Spectral Class_F</th>\n",
       "      <th>Spectral Class_G</th>\n",
       "      <th>Spectral Class_K</th>\n",
       "      <th>Spectral Class_M</th>\n",
       "      <th>Spectral Class_O</th>\n",
       "    </tr>\n",
       "  </thead>\n",
       "  <tbody>\n",
       "    <tr>\n",
       "      <th>0</th>\n",
       "      <td>0</td>\n",
       "      <td>0</td>\n",
       "      <td>0</td>\n",
       "      <td>1</td>\n",
       "      <td>0</td>\n",
       "      <td>0</td>\n",
       "      <td>0</td>\n",
       "      <td>0</td>\n",
       "      <td>0</td>\n",
       "      <td>0</td>\n",
       "      <td>1</td>\n",
       "      <td>0</td>\n",
       "    </tr>\n",
       "    <tr>\n",
       "      <th>1</th>\n",
       "      <td>0</td>\n",
       "      <td>0</td>\n",
       "      <td>0</td>\n",
       "      <td>1</td>\n",
       "      <td>0</td>\n",
       "      <td>0</td>\n",
       "      <td>0</td>\n",
       "      <td>0</td>\n",
       "      <td>0</td>\n",
       "      <td>0</td>\n",
       "      <td>1</td>\n",
       "      <td>0</td>\n",
       "    </tr>\n",
       "    <tr>\n",
       "      <th>2</th>\n",
       "      <td>0</td>\n",
       "      <td>0</td>\n",
       "      <td>0</td>\n",
       "      <td>1</td>\n",
       "      <td>0</td>\n",
       "      <td>0</td>\n",
       "      <td>0</td>\n",
       "      <td>0</td>\n",
       "      <td>0</td>\n",
       "      <td>0</td>\n",
       "      <td>1</td>\n",
       "      <td>0</td>\n",
       "    </tr>\n",
       "    <tr>\n",
       "      <th>3</th>\n",
       "      <td>0</td>\n",
       "      <td>0</td>\n",
       "      <td>0</td>\n",
       "      <td>1</td>\n",
       "      <td>0</td>\n",
       "      <td>0</td>\n",
       "      <td>0</td>\n",
       "      <td>0</td>\n",
       "      <td>0</td>\n",
       "      <td>0</td>\n",
       "      <td>1</td>\n",
       "      <td>0</td>\n",
       "    </tr>\n",
       "    <tr>\n",
       "      <th>4</th>\n",
       "      <td>0</td>\n",
       "      <td>0</td>\n",
       "      <td>0</td>\n",
       "      <td>1</td>\n",
       "      <td>0</td>\n",
       "      <td>0</td>\n",
       "      <td>0</td>\n",
       "      <td>0</td>\n",
       "      <td>0</td>\n",
       "      <td>0</td>\n",
       "      <td>1</td>\n",
       "      <td>0</td>\n",
       "    </tr>\n",
       "  </tbody>\n",
       "</table>\n",
       "</div>"
      ],
      "text/plain": [
       "   Star color_Bluish  Star color_Off-White  Star color_Orange  Star color_Red  \\\n",
       "0                  0                     0                  0               1   \n",
       "1                  0                     0                  0               1   \n",
       "2                  0                     0                  0               1   \n",
       "3                  0                     0                  0               1   \n",
       "4                  0                     0                  0               1   \n",
       "\n",
       "   Star color_White  Star color_Yellowish  Spectral Class_B  Spectral Class_F  \\\n",
       "0                 0                     0                 0                 0   \n",
       "1                 0                     0                 0                 0   \n",
       "2                 0                     0                 0                 0   \n",
       "3                 0                     0                 0                 0   \n",
       "4                 0                     0                 0                 0   \n",
       "\n",
       "   Spectral Class_G  Spectral Class_K  Spectral Class_M  Spectral Class_O  \n",
       "0                 0                 0                 1                 0  \n",
       "1                 0                 0                 1                 0  \n",
       "2                 0                 0                 1                 0  \n",
       "3                 0                 0                 1                 0  \n",
       "4                 0                 0                 1                 0  "
      ]
     },
     "execution_count": 13,
     "metadata": {},
     "output_type": "execute_result"
    }
   ],
   "source": [
    "Star_Features = ['Star color','Spectral Class']\n",
    "factors = pd.get_dummies(stars[Star_Features],drop_first=True)\n",
    "factors.head()"
   ]
  },
  {
   "cell_type": "code",
   "execution_count": 14,
   "id": "26f5507e",
   "metadata": {},
   "outputs": [
    {
     "data": {
      "text/html": [
       "<div>\n",
       "<style scoped>\n",
       "    .dataframe tbody tr th:only-of-type {\n",
       "        vertical-align: middle;\n",
       "    }\n",
       "\n",
       "    .dataframe tbody tr th {\n",
       "        vertical-align: top;\n",
       "    }\n",
       "\n",
       "    .dataframe thead th {\n",
       "        text-align: right;\n",
       "    }\n",
       "</style>\n",
       "<table border=\"1\" class=\"dataframe\">\n",
       "  <thead>\n",
       "    <tr style=\"text-align: right;\">\n",
       "      <th></th>\n",
       "      <th>Temperature (K)</th>\n",
       "      <th>Luminosity(L/Lo)</th>\n",
       "      <th>Radius(R/Ro)</th>\n",
       "      <th>Absolute magnitude(Mv)</th>\n",
       "      <th>Star type</th>\n",
       "      <th>Star color_Bluish</th>\n",
       "      <th>Star color_Off-White</th>\n",
       "      <th>Star color_Orange</th>\n",
       "      <th>Star color_Red</th>\n",
       "      <th>Star color_White</th>\n",
       "      <th>Star color_Yellowish</th>\n",
       "      <th>Spectral Class_B</th>\n",
       "      <th>Spectral Class_F</th>\n",
       "      <th>Spectral Class_G</th>\n",
       "      <th>Spectral Class_K</th>\n",
       "      <th>Spectral Class_M</th>\n",
       "      <th>Spectral Class_O</th>\n",
       "    </tr>\n",
       "  </thead>\n",
       "  <tbody>\n",
       "    <tr>\n",
       "      <th>0</th>\n",
       "      <td>3068</td>\n",
       "      <td>0.002400</td>\n",
       "      <td>0.1700</td>\n",
       "      <td>16.12</td>\n",
       "      <td>0</td>\n",
       "      <td>0</td>\n",
       "      <td>0</td>\n",
       "      <td>0</td>\n",
       "      <td>1</td>\n",
       "      <td>0</td>\n",
       "      <td>0</td>\n",
       "      <td>0</td>\n",
       "      <td>0</td>\n",
       "      <td>0</td>\n",
       "      <td>0</td>\n",
       "      <td>1</td>\n",
       "      <td>0</td>\n",
       "    </tr>\n",
       "    <tr>\n",
       "      <th>1</th>\n",
       "      <td>3042</td>\n",
       "      <td>0.000500</td>\n",
       "      <td>0.1542</td>\n",
       "      <td>16.60</td>\n",
       "      <td>0</td>\n",
       "      <td>0</td>\n",
       "      <td>0</td>\n",
       "      <td>0</td>\n",
       "      <td>1</td>\n",
       "      <td>0</td>\n",
       "      <td>0</td>\n",
       "      <td>0</td>\n",
       "      <td>0</td>\n",
       "      <td>0</td>\n",
       "      <td>0</td>\n",
       "      <td>1</td>\n",
       "      <td>0</td>\n",
       "    </tr>\n",
       "    <tr>\n",
       "      <th>2</th>\n",
       "      <td>2600</td>\n",
       "      <td>0.000300</td>\n",
       "      <td>0.1020</td>\n",
       "      <td>18.70</td>\n",
       "      <td>0</td>\n",
       "      <td>0</td>\n",
       "      <td>0</td>\n",
       "      <td>0</td>\n",
       "      <td>1</td>\n",
       "      <td>0</td>\n",
       "      <td>0</td>\n",
       "      <td>0</td>\n",
       "      <td>0</td>\n",
       "      <td>0</td>\n",
       "      <td>0</td>\n",
       "      <td>1</td>\n",
       "      <td>0</td>\n",
       "    </tr>\n",
       "    <tr>\n",
       "      <th>3</th>\n",
       "      <td>2800</td>\n",
       "      <td>0.000200</td>\n",
       "      <td>0.1600</td>\n",
       "      <td>16.65</td>\n",
       "      <td>0</td>\n",
       "      <td>0</td>\n",
       "      <td>0</td>\n",
       "      <td>0</td>\n",
       "      <td>1</td>\n",
       "      <td>0</td>\n",
       "      <td>0</td>\n",
       "      <td>0</td>\n",
       "      <td>0</td>\n",
       "      <td>0</td>\n",
       "      <td>0</td>\n",
       "      <td>1</td>\n",
       "      <td>0</td>\n",
       "    </tr>\n",
       "    <tr>\n",
       "      <th>4</th>\n",
       "      <td>1939</td>\n",
       "      <td>0.000138</td>\n",
       "      <td>0.1030</td>\n",
       "      <td>20.06</td>\n",
       "      <td>0</td>\n",
       "      <td>0</td>\n",
       "      <td>0</td>\n",
       "      <td>0</td>\n",
       "      <td>1</td>\n",
       "      <td>0</td>\n",
       "      <td>0</td>\n",
       "      <td>0</td>\n",
       "      <td>0</td>\n",
       "      <td>0</td>\n",
       "      <td>0</td>\n",
       "      <td>1</td>\n",
       "      <td>0</td>\n",
       "    </tr>\n",
       "  </tbody>\n",
       "</table>\n",
       "</div>"
      ],
      "text/plain": [
       "   Temperature (K)  Luminosity(L/Lo)  Radius(R/Ro)  Absolute magnitude(Mv)  \\\n",
       "0             3068          0.002400        0.1700                   16.12   \n",
       "1             3042          0.000500        0.1542                   16.60   \n",
       "2             2600          0.000300        0.1020                   18.70   \n",
       "3             2800          0.000200        0.1600                   16.65   \n",
       "4             1939          0.000138        0.1030                   20.06   \n",
       "\n",
       "  Star type  Star color_Bluish  Star color_Off-White  Star color_Orange  \\\n",
       "0         0                  0                     0                  0   \n",
       "1         0                  0                     0                  0   \n",
       "2         0                  0                     0                  0   \n",
       "3         0                  0                     0                  0   \n",
       "4         0                  0                     0                  0   \n",
       "\n",
       "   Star color_Red  Star color_White  Star color_Yellowish  Spectral Class_B  \\\n",
       "0               1                 0                     0                 0   \n",
       "1               1                 0                     0                 0   \n",
       "2               1                 0                     0                 0   \n",
       "3               1                 0                     0                 0   \n",
       "4               1                 0                     0                 0   \n",
       "\n",
       "   Spectral Class_F  Spectral Class_G  Spectral Class_K  Spectral Class_M  \\\n",
       "0                 0                 0                 0                 1   \n",
       "1                 0                 0                 0                 1   \n",
       "2                 0                 0                 0                 1   \n",
       "3                 0                 0                 0                 1   \n",
       "4                 0                 0                 0                 1   \n",
       "\n",
       "   Spectral Class_O  \n",
       "0                 0  \n",
       "1                 0  \n",
       "2                 0  \n",
       "3                 0  \n",
       "4                 0  "
      ]
     },
     "execution_count": 14,
     "metadata": {},
     "output_type": "execute_result"
    }
   ],
   "source": [
    "stars = stars.drop(Star_Features,axis=1)\n",
    "stars = pd.concat([stars,factors],axis=1)\n",
    "stars.head()"
   ]
  },
  {
   "cell_type": "markdown",
   "id": "07e4fdb0",
   "metadata": {},
   "source": [
    "# Numerically Summarize the Data\n",
    "\n",
    "Let's numerically summarize continuous variables in the dataset."
   ]
  },
  {
   "cell_type": "code",
   "execution_count": 15,
   "id": "6ec67a36",
   "metadata": {
    "scrolled": true
   },
   "outputs": [
    {
     "data": {
      "text/html": [
       "<div>\n",
       "<style scoped>\n",
       "    .dataframe tbody tr th:only-of-type {\n",
       "        vertical-align: middle;\n",
       "    }\n",
       "\n",
       "    .dataframe tbody tr th {\n",
       "        vertical-align: top;\n",
       "    }\n",
       "\n",
       "    .dataframe thead th {\n",
       "        text-align: right;\n",
       "    }\n",
       "</style>\n",
       "<table border=\"1\" class=\"dataframe\">\n",
       "  <thead>\n",
       "    <tr style=\"text-align: right;\">\n",
       "      <th></th>\n",
       "      <th>Temperature (K)</th>\n",
       "      <th>Luminosity(L/Lo)</th>\n",
       "      <th>Radius(R/Ro)</th>\n",
       "      <th>Absolute magnitude(Mv)</th>\n",
       "      <th>Star color_Bluish</th>\n",
       "      <th>Star color_Off-White</th>\n",
       "      <th>Star color_Orange</th>\n",
       "      <th>Star color_Red</th>\n",
       "      <th>Star color_White</th>\n",
       "      <th>Star color_Yellowish</th>\n",
       "      <th>Spectral Class_B</th>\n",
       "      <th>Spectral Class_F</th>\n",
       "      <th>Spectral Class_G</th>\n",
       "      <th>Spectral Class_K</th>\n",
       "      <th>Spectral Class_M</th>\n",
       "      <th>Spectral Class_O</th>\n",
       "    </tr>\n",
       "  </thead>\n",
       "  <tbody>\n",
       "    <tr>\n",
       "      <th>count</th>\n",
       "      <td>240.0000</td>\n",
       "      <td>240.0000</td>\n",
       "      <td>240.0000</td>\n",
       "      <td>240.0000</td>\n",
       "      <td>240.0000</td>\n",
       "      <td>240.0000</td>\n",
       "      <td>240.0000</td>\n",
       "      <td>240.0000</td>\n",
       "      <td>240.0000</td>\n",
       "      <td>240.0000</td>\n",
       "      <td>240.0000</td>\n",
       "      <td>240.0000</td>\n",
       "      <td>240.0000</td>\n",
       "      <td>240.0000</td>\n",
       "      <td>240.0000</td>\n",
       "      <td>240.0000</td>\n",
       "    </tr>\n",
       "    <tr>\n",
       "      <th>mean</th>\n",
       "      <td>10497.4625</td>\n",
       "      <td>107188.3616</td>\n",
       "      <td>237.1578</td>\n",
       "      <td>4.3824</td>\n",
       "      <td>0.1750</td>\n",
       "      <td>0.0542</td>\n",
       "      <td>0.0125</td>\n",
       "      <td>0.4708</td>\n",
       "      <td>0.0417</td>\n",
       "      <td>0.0167</td>\n",
       "      <td>0.1917</td>\n",
       "      <td>0.0708</td>\n",
       "      <td>0.0042</td>\n",
       "      <td>0.0250</td>\n",
       "      <td>0.4625</td>\n",
       "      <td>0.1667</td>\n",
       "    </tr>\n",
       "    <tr>\n",
       "      <th>std</th>\n",
       "      <td>9552.4250</td>\n",
       "      <td>179432.2449</td>\n",
       "      <td>517.1558</td>\n",
       "      <td>10.5325</td>\n",
       "      <td>0.3808</td>\n",
       "      <td>0.2268</td>\n",
       "      <td>0.1113</td>\n",
       "      <td>0.5002</td>\n",
       "      <td>0.2002</td>\n",
       "      <td>0.1283</td>\n",
       "      <td>0.3944</td>\n",
       "      <td>0.2571</td>\n",
       "      <td>0.0645</td>\n",
       "      <td>0.1565</td>\n",
       "      <td>0.4996</td>\n",
       "      <td>0.3735</td>\n",
       "    </tr>\n",
       "    <tr>\n",
       "      <th>min</th>\n",
       "      <td>1939.0000</td>\n",
       "      <td>0.0001</td>\n",
       "      <td>0.0084</td>\n",
       "      <td>-11.9200</td>\n",
       "      <td>0.0000</td>\n",
       "      <td>0.0000</td>\n",
       "      <td>0.0000</td>\n",
       "      <td>0.0000</td>\n",
       "      <td>0.0000</td>\n",
       "      <td>0.0000</td>\n",
       "      <td>0.0000</td>\n",
       "      <td>0.0000</td>\n",
       "      <td>0.0000</td>\n",
       "      <td>0.0000</td>\n",
       "      <td>0.0000</td>\n",
       "      <td>0.0000</td>\n",
       "    </tr>\n",
       "    <tr>\n",
       "      <th>25%</th>\n",
       "      <td>3344.2500</td>\n",
       "      <td>0.0009</td>\n",
       "      <td>0.1028</td>\n",
       "      <td>-6.2325</td>\n",
       "      <td>0.0000</td>\n",
       "      <td>0.0000</td>\n",
       "      <td>0.0000</td>\n",
       "      <td>0.0000</td>\n",
       "      <td>0.0000</td>\n",
       "      <td>0.0000</td>\n",
       "      <td>0.0000</td>\n",
       "      <td>0.0000</td>\n",
       "      <td>0.0000</td>\n",
       "      <td>0.0000</td>\n",
       "      <td>0.0000</td>\n",
       "      <td>0.0000</td>\n",
       "    </tr>\n",
       "    <tr>\n",
       "      <th>50%</th>\n",
       "      <td>5776.0000</td>\n",
       "      <td>0.0705</td>\n",
       "      <td>0.7625</td>\n",
       "      <td>8.3130</td>\n",
       "      <td>0.0000</td>\n",
       "      <td>0.0000</td>\n",
       "      <td>0.0000</td>\n",
       "      <td>0.0000</td>\n",
       "      <td>0.0000</td>\n",
       "      <td>0.0000</td>\n",
       "      <td>0.0000</td>\n",
       "      <td>0.0000</td>\n",
       "      <td>0.0000</td>\n",
       "      <td>0.0000</td>\n",
       "      <td>0.0000</td>\n",
       "      <td>0.0000</td>\n",
       "    </tr>\n",
       "    <tr>\n",
       "      <th>75%</th>\n",
       "      <td>15055.5000</td>\n",
       "      <td>198050.0000</td>\n",
       "      <td>42.7500</td>\n",
       "      <td>13.6975</td>\n",
       "      <td>0.0000</td>\n",
       "      <td>0.0000</td>\n",
       "      <td>0.0000</td>\n",
       "      <td>1.0000</td>\n",
       "      <td>0.0000</td>\n",
       "      <td>0.0000</td>\n",
       "      <td>0.0000</td>\n",
       "      <td>0.0000</td>\n",
       "      <td>0.0000</td>\n",
       "      <td>0.0000</td>\n",
       "      <td>1.0000</td>\n",
       "      <td>0.0000</td>\n",
       "    </tr>\n",
       "    <tr>\n",
       "      <th>max</th>\n",
       "      <td>40000.0000</td>\n",
       "      <td>849420.0000</td>\n",
       "      <td>1948.5000</td>\n",
       "      <td>20.0600</td>\n",
       "      <td>1.0000</td>\n",
       "      <td>1.0000</td>\n",
       "      <td>1.0000</td>\n",
       "      <td>1.0000</td>\n",
       "      <td>1.0000</td>\n",
       "      <td>1.0000</td>\n",
       "      <td>1.0000</td>\n",
       "      <td>1.0000</td>\n",
       "      <td>1.0000</td>\n",
       "      <td>1.0000</td>\n",
       "      <td>1.0000</td>\n",
       "      <td>1.0000</td>\n",
       "    </tr>\n",
       "  </tbody>\n",
       "</table>\n",
       "</div>"
      ],
      "text/plain": [
       "       Temperature (K)  Luminosity(L/Lo)  Radius(R/Ro)  \\\n",
       "count         240.0000          240.0000      240.0000   \n",
       "mean        10497.4625       107188.3616      237.1578   \n",
       "std          9552.4250       179432.2449      517.1558   \n",
       "min          1939.0000            0.0001        0.0084   \n",
       "25%          3344.2500            0.0009        0.1028   \n",
       "50%          5776.0000            0.0705        0.7625   \n",
       "75%         15055.5000       198050.0000       42.7500   \n",
       "max         40000.0000       849420.0000     1948.5000   \n",
       "\n",
       "       Absolute magnitude(Mv)  Star color_Bluish  Star color_Off-White  \\\n",
       "count                240.0000           240.0000              240.0000   \n",
       "mean                   4.3824             0.1750                0.0542   \n",
       "std                   10.5325             0.3808                0.2268   \n",
       "min                  -11.9200             0.0000                0.0000   \n",
       "25%                   -6.2325             0.0000                0.0000   \n",
       "50%                    8.3130             0.0000                0.0000   \n",
       "75%                   13.6975             0.0000                0.0000   \n",
       "max                   20.0600             1.0000                1.0000   \n",
       "\n",
       "       Star color_Orange  Star color_Red  Star color_White  \\\n",
       "count           240.0000        240.0000          240.0000   \n",
       "mean              0.0125          0.4708            0.0417   \n",
       "std               0.1113          0.5002            0.2002   \n",
       "min               0.0000          0.0000            0.0000   \n",
       "25%               0.0000          0.0000            0.0000   \n",
       "50%               0.0000          0.0000            0.0000   \n",
       "75%               0.0000          1.0000            0.0000   \n",
       "max               1.0000          1.0000            1.0000   \n",
       "\n",
       "       Star color_Yellowish  Spectral Class_B  Spectral Class_F  \\\n",
       "count              240.0000          240.0000          240.0000   \n",
       "mean                 0.0167            0.1917            0.0708   \n",
       "std                  0.1283            0.3944            0.2571   \n",
       "min                  0.0000            0.0000            0.0000   \n",
       "25%                  0.0000            0.0000            0.0000   \n",
       "50%                  0.0000            0.0000            0.0000   \n",
       "75%                  0.0000            0.0000            0.0000   \n",
       "max                  1.0000            1.0000            1.0000   \n",
       "\n",
       "       Spectral Class_G  Spectral Class_K  Spectral Class_M  Spectral Class_O  \n",
       "count          240.0000          240.0000          240.0000          240.0000  \n",
       "mean             0.0042            0.0250            0.4625            0.1667  \n",
       "std              0.0645            0.1565            0.4996            0.3735  \n",
       "min              0.0000            0.0000            0.0000            0.0000  \n",
       "25%              0.0000            0.0000            0.0000            0.0000  \n",
       "50%              0.0000            0.0000            0.0000            0.0000  \n",
       "75%              0.0000            0.0000            1.0000            0.0000  \n",
       "max              1.0000            1.0000            1.0000            1.0000  "
      ]
     },
     "execution_count": 15,
     "metadata": {},
     "output_type": "execute_result"
    }
   ],
   "source": [
    "import numpy as np\n",
    "numerics =['Temperature (K)','Luminosity(L/Lo)', 'Radius(R/Ro)', \n",
    "           'Absolute magnitude(Mv)', 'Star color_Bluish',\n",
    "           'Star color_Off-White','Star color_Orange','Star color_Red',\n",
    "           'Star color_White', 'Star color_Yellowish', 'Spectral Class_B',\n",
    "          'Spectral Class_F', 'Spectral Class_G', 'Spectral Class_K', \n",
    "          'Spectral Class_M', 'Spectral Class_O']\n",
    "#summarize it\n",
    "np.round(stars[numerics].describe(), decimals=4)"
   ]
  },
  {
   "cell_type": "markdown",
   "id": "eece84ad",
   "metadata": {},
   "source": [
    "Let's look at the correlation between all these numerical features."
   ]
  },
  {
   "cell_type": "code",
   "execution_count": 17,
   "id": "a23cb5cd",
   "metadata": {
    "scrolled": true
   },
   "outputs": [
    {
     "data": {
      "text/html": [
       "<style type=\"text/css\">\n",
       "#T_711ab_row0_col0, #T_711ab_row1_col1, #T_711ab_row2_col2, #T_711ab_row3_col3, #T_711ab_row4_col4, #T_711ab_row5_col5, #T_711ab_row6_col6, #T_711ab_row7_col7, #T_711ab_row8_col8, #T_711ab_row9_col9, #T_711ab_row10_col10, #T_711ab_row11_col11, #T_711ab_row12_col12, #T_711ab_row13_col13, #T_711ab_row14_col14, #T_711ab_row15_col15 {\n",
       "  background-color: #023858;\n",
       "  color: #f1f1f1;\n",
       "}\n",
       "#T_711ab_row0_col1 {\n",
       "  background-color: #2f8bbe;\n",
       "  color: #f1f1f1;\n",
       "}\n",
       "#T_711ab_row0_col2, #T_711ab_row5_col3, #T_711ab_row8_col11, #T_711ab_row14_col2 {\n",
       "  background-color: #94b6d7;\n",
       "  color: #000000;\n",
       "}\n",
       "#T_711ab_row0_col3, #T_711ab_row0_col11, #T_711ab_row4_col7, #T_711ab_row4_col14, #T_711ab_row6_col5 {\n",
       "  background-color: #e4e1ef;\n",
       "  color: #000000;\n",
       "}\n",
       "#T_711ab_row0_col4, #T_711ab_row6_col1 {\n",
       "  background-color: #6da6cd;\n",
       "  color: #f1f1f1;\n",
       "}\n",
       "#T_711ab_row0_col5 {\n",
       "  background-color: #ebe6f2;\n",
       "  color: #000000;\n",
       "}\n",
       "#T_711ab_row0_col6, #T_711ab_row14_col15 {\n",
       "  background-color: #faf2f8;\n",
       "  color: #000000;\n",
       "}\n",
       "#T_711ab_row0_col7, #T_711ab_row0_col14, #T_711ab_row1_col3, #T_711ab_row3_col1, #T_711ab_row3_col2, #T_711ab_row3_col12, #T_711ab_row3_col15, #T_711ab_row7_col0, #T_711ab_row7_col4, #T_711ab_row7_col5, #T_711ab_row7_col6, #T_711ab_row7_col8, #T_711ab_row7_col9, #T_711ab_row7_col10, #T_711ab_row7_col11, #T_711ab_row14_col5, #T_711ab_row14_col8, #T_711ab_row14_col9, #T_711ab_row14_col11, #T_711ab_row14_col13 {\n",
       "  background-color: #fff7fb;\n",
       "  color: #000000;\n",
       "}\n",
       "#T_711ab_row0_col8, #T_711ab_row1_col8, #T_711ab_row3_col9, #T_711ab_row6_col8, #T_711ab_row7_col12, #T_711ab_row10_col7, #T_711ab_row10_col14 {\n",
       "  background-color: #e7e3f0;\n",
       "  color: #000000;\n",
       "}\n",
       "#T_711ab_row0_col9, #T_711ab_row2_col3, #T_711ab_row3_col6, #T_711ab_row4_col6, #T_711ab_row10_col6, #T_711ab_row15_col6 {\n",
       "  background-color: #f8f1f8;\n",
       "  color: #000000;\n",
       "}\n",
       "#T_711ab_row0_col10 {\n",
       "  background-color: #348ebf;\n",
       "  color: #f1f1f1;\n",
       "}\n",
       "#T_711ab_row0_col12, #T_711ab_row10_col13 {\n",
       "  background-color: #f6eff7;\n",
       "  color: #000000;\n",
       "}\n",
       "#T_711ab_row0_col13, #T_711ab_row1_col9 {\n",
       "  background-color: #f9f2f8;\n",
       "  color: #000000;\n",
       "}\n",
       "#T_711ab_row0_col15, #T_711ab_row1_col15 {\n",
       "  background-color: #197db7;\n",
       "  color: #f1f1f1;\n",
       "}\n",
       "#T_711ab_row1_col0, #T_711ab_row13_col9 {\n",
       "  background-color: #2d8abd;\n",
       "  color: #f1f1f1;\n",
       "}\n",
       "#T_711ab_row1_col2 {\n",
       "  background-color: #167bb6;\n",
       "  color: #f1f1f1;\n",
       "}\n",
       "#T_711ab_row1_col4, #T_711ab_row11_col15 {\n",
       "  background-color: #d4d4e8;\n",
       "  color: #000000;\n",
       "}\n",
       "#T_711ab_row1_col5, #T_711ab_row5_col12, #T_711ab_row8_col12, #T_711ab_row14_col6, #T_711ab_row15_col13 {\n",
       "  background-color: #f5eef6;\n",
       "  color: #000000;\n",
       "}\n",
       "#T_711ab_row1_col6, #T_711ab_row1_col10, #T_711ab_row9_col4, #T_711ab_row13_col10 {\n",
       "  background-color: #cdd0e5;\n",
       "  color: #000000;\n",
       "}\n",
       "#T_711ab_row1_col7, #T_711ab_row9_col10, #T_711ab_row13_col15 {\n",
       "  background-color: #c9cee4;\n",
       "  color: #000000;\n",
       "}\n",
       "#T_711ab_row1_col11, #T_711ab_row3_col13, #T_711ab_row6_col12, #T_711ab_row8_col6 {\n",
       "  background-color: #f4edf6;\n",
       "  color: #000000;\n",
       "}\n",
       "#T_711ab_row1_col12, #T_711ab_row5_col8 {\n",
       "  background-color: #ede7f2;\n",
       "  color: #000000;\n",
       "}\n",
       "#T_711ab_row1_col13, #T_711ab_row15_col10 {\n",
       "  background-color: #e3e0ee;\n",
       "  color: #000000;\n",
       "}\n",
       "#T_711ab_row1_col14, #T_711ab_row6_col10 {\n",
       "  background-color: #c8cde4;\n",
       "  color: #000000;\n",
       "}\n",
       "#T_711ab_row2_col0, #T_711ab_row12_col7 {\n",
       "  background-color: #86b0d3;\n",
       "  color: #000000;\n",
       "}\n",
       "#T_711ab_row2_col1 {\n",
       "  background-color: #1077b4;\n",
       "  color: #f1f1f1;\n",
       "}\n",
       "#T_711ab_row2_col4, #T_711ab_row5_col10, #T_711ab_row6_col4, #T_711ab_row14_col1 {\n",
       "  background-color: #cacee5;\n",
       "  color: #000000;\n",
       "}\n",
       "#T_711ab_row2_col5, #T_711ab_row4_col5, #T_711ab_row5_col13, #T_711ab_row6_col9, #T_711ab_row15_col5 {\n",
       "  background-color: #f1ebf4;\n",
       "  color: #000000;\n",
       "}\n",
       "#T_711ab_row2_col6, #T_711ab_row5_col15, #T_711ab_row8_col10 {\n",
       "  background-color: #d2d2e7;\n",
       "  color: #000000;\n",
       "}\n",
       "#T_711ab_row2_col7 {\n",
       "  background-color: #83afd3;\n",
       "  color: #f1f1f1;\n",
       "}\n",
       "#T_711ab_row2_col8, #T_711ab_row3_col0, #T_711ab_row10_col15, #T_711ab_row12_col5, #T_711ab_row13_col11, #T_711ab_row15_col7, #T_711ab_row15_col14 {\n",
       "  background-color: #e2dfee;\n",
       "  color: #000000;\n",
       "}\n",
       "#T_711ab_row2_col9, #T_711ab_row4_col9, #T_711ab_row4_col12, #T_711ab_row10_col9, #T_711ab_row10_col12, #T_711ab_row15_col9, #T_711ab_row15_col12 {\n",
       "  background-color: #f7f0f7;\n",
       "  color: #000000;\n",
       "}\n",
       "#T_711ab_row2_col10 {\n",
       "  background-color: #c2cbe2;\n",
       "  color: #000000;\n",
       "}\n",
       "#T_711ab_row2_col11, #T_711ab_row4_col11, #T_711ab_row15_col11 {\n",
       "  background-color: #efe9f3;\n",
       "  color: #000000;\n",
       "}\n",
       "#T_711ab_row2_col12, #T_711ab_row5_col4 {\n",
       "  background-color: #d6d6e9;\n",
       "  color: #000000;\n",
       "}\n",
       "#T_711ab_row2_col13, #T_711ab_row12_col11 {\n",
       "  background-color: #dddbec;\n",
       "  color: #000000;\n",
       "}\n",
       "#T_711ab_row2_col14 {\n",
       "  background-color: #88b1d4;\n",
       "  color: #000000;\n",
       "}\n",
       "#T_711ab_row2_col15 {\n",
       "  background-color: #b5c4df;\n",
       "  color: #000000;\n",
       "}\n",
       "#T_711ab_row3_col4, #T_711ab_row3_col8, #T_711ab_row8_col4 {\n",
       "  background-color: #d3d4e7;\n",
       "  color: #000000;\n",
       "}\n",
       "#T_711ab_row3_col5, #T_711ab_row11_col6 {\n",
       "  background-color: #dbdaeb;\n",
       "  color: #000000;\n",
       "}\n",
       "#T_711ab_row3_col7 {\n",
       "  background-color: #3d93c2;\n",
       "  color: #f1f1f1;\n",
       "}\n",
       "#T_711ab_row3_col10, #T_711ab_row3_col11, #T_711ab_row12_col10, #T_711ab_row13_col6 {\n",
       "  background-color: #c1cae2;\n",
       "  color: #000000;\n",
       "}\n",
       "#T_711ab_row3_col14 {\n",
       "  background-color: #3991c1;\n",
       "  color: #f1f1f1;\n",
       "}\n",
       "#T_711ab_row4_col0 {\n",
       "  background-color: #4697c4;\n",
       "  color: #f1f1f1;\n",
       "}\n",
       "#T_711ab_row4_col1 {\n",
       "  background-color: #afc1dd;\n",
       "  color: #000000;\n",
       "}\n",
       "#T_711ab_row4_col2, #T_711ab_row9_col7 {\n",
       "  background-color: #b0c2de;\n",
       "  color: #000000;\n",
       "}\n",
       "#T_711ab_row4_col3, #T_711ab_row6_col7 {\n",
       "  background-color: #adc1dd;\n",
       "  color: #000000;\n",
       "}\n",
       "#T_711ab_row4_col8, #T_711ab_row8_col9, #T_711ab_row9_col6, #T_711ab_row12_col6, #T_711ab_row15_col8 {\n",
       "  background-color: #f2ecf5;\n",
       "  color: #000000;\n",
       "}\n",
       "#T_711ab_row4_col10 {\n",
       "  background-color: #0c74b2;\n",
       "  color: #f1f1f1;\n",
       "}\n",
       "#T_711ab_row4_col13, #T_711ab_row11_col12 {\n",
       "  background-color: #f5eff6;\n",
       "  color: #000000;\n",
       "}\n",
       "#T_711ab_row4_col15 {\n",
       "  background-color: #e0deed;\n",
       "  color: #000000;\n",
       "}\n",
       "#T_711ab_row5_col0, #T_711ab_row6_col0, #T_711ab_row12_col14 {\n",
       "  background-color: #a5bddb;\n",
       "  color: #000000;\n",
       "}\n",
       "#T_711ab_row5_col1, #T_711ab_row13_col14 {\n",
       "  background-color: #b7c5df;\n",
       "  color: #000000;\n",
       "}\n",
       "#T_711ab_row5_col2, #T_711ab_row11_col1 {\n",
       "  background-color: #bcc7e1;\n",
       "  color: #000000;\n",
       "}\n",
       "#T_711ab_row5_col6, #T_711ab_row9_col12, #T_711ab_row13_col12 {\n",
       "  background-color: #f4eef6;\n",
       "  color: #000000;\n",
       "}\n",
       "#T_711ab_row5_col7, #T_711ab_row5_col14, #T_711ab_row6_col15, #T_711ab_row12_col4 {\n",
       "  background-color: #c5cce3;\n",
       "  color: #000000;\n",
       "}\n",
       "#T_711ab_row5_col9, #T_711ab_row10_col8 {\n",
       "  background-color: #f3edf5;\n",
       "  color: #000000;\n",
       "}\n",
       "#T_711ab_row5_col11 {\n",
       "  background-color: #056ba7;\n",
       "  color: #f1f1f1;\n",
       "}\n",
       "#T_711ab_row6_col2 {\n",
       "  background-color: #7dacd1;\n",
       "  color: #f1f1f1;\n",
       "}\n",
       "#T_711ab_row6_col3, #T_711ab_row9_col0, #T_711ab_row13_col3 {\n",
       "  background-color: #a7bddb;\n",
       "  color: #000000;\n",
       "}\n",
       "#T_711ab_row6_col11, #T_711ab_row8_col7, #T_711ab_row8_col14, #T_711ab_row11_col2, #T_711ab_row12_col15 {\n",
       "  background-color: #c0c9e2;\n",
       "  color: #000000;\n",
       "}\n",
       "#T_711ab_row6_col13 {\n",
       "  background-color: #b8c6e0;\n",
       "  color: #000000;\n",
       "}\n",
       "#T_711ab_row6_col14 {\n",
       "  background-color: #9ebad9;\n",
       "  color: #000000;\n",
       "}\n",
       "#T_711ab_row7_col1, #T_711ab_row11_col7, #T_711ab_row11_col14 {\n",
       "  background-color: #cccfe5;\n",
       "  color: #000000;\n",
       "}\n",
       "#T_711ab_row7_col2 {\n",
       "  background-color: #91b5d6;\n",
       "  color: #000000;\n",
       "}\n",
       "#T_711ab_row7_col3 {\n",
       "  background-color: #3f93c2;\n",
       "  color: #f1f1f1;\n",
       "}\n",
       "#T_711ab_row7_col13, #T_711ab_row11_col13 {\n",
       "  background-color: #f1ebf5;\n",
       "  color: #000000;\n",
       "}\n",
       "#T_711ab_row7_col14 {\n",
       "  background-color: #023d60;\n",
       "  color: #f1f1f1;\n",
       "}\n",
       "#T_711ab_row7_col15 {\n",
       "  background-color: #fbf3f9;\n",
       "  color: #000000;\n",
       "}\n",
       "#T_711ab_row8_col0 {\n",
       "  background-color: #9ab8d8;\n",
       "  color: #000000;\n",
       "}\n",
       "#T_711ab_row8_col1, #T_711ab_row12_col0 {\n",
       "  background-color: #9cb9d9;\n",
       "  color: #000000;\n",
       "}\n",
       "#T_711ab_row8_col2, #T_711ab_row11_col0 {\n",
       "  background-color: #a4bcda;\n",
       "  color: #000000;\n",
       "}\n",
       "#T_711ab_row8_col3 {\n",
       "  background-color: #84b0d3;\n",
       "  color: #f1f1f1;\n",
       "}\n",
       "#T_711ab_row8_col5, #T_711ab_row9_col8 {\n",
       "  background-color: #e8e4f0;\n",
       "  color: #000000;\n",
       "}\n",
       "#T_711ab_row8_col13, #T_711ab_row10_col11, #T_711ab_row12_col9 {\n",
       "  background-color: #f0eaf4;\n",
       "  color: #000000;\n",
       "}\n",
       "#T_711ab_row8_col15 {\n",
       "  background-color: #ced0e6;\n",
       "  color: #000000;\n",
       "}\n",
       "#T_711ab_row9_col1, #T_711ab_row10_col1 {\n",
       "  background-color: #abbfdc;\n",
       "  color: #000000;\n",
       "}\n",
       "#T_711ab_row9_col2, #T_711ab_row9_col14 {\n",
       "  background-color: #b1c2de;\n",
       "  color: #000000;\n",
       "}\n",
       "#T_711ab_row9_col3, #T_711ab_row12_col1 {\n",
       "  background-color: #8eb3d5;\n",
       "  color: #000000;\n",
       "}\n",
       "#T_711ab_row9_col5, #T_711ab_row15_col4 {\n",
       "  background-color: #e5e1ef;\n",
       "  color: #000000;\n",
       "}\n",
       "#T_711ab_row9_col11, #T_711ab_row9_col15 {\n",
       "  background-color: #c6cce3;\n",
       "  color: #000000;\n",
       "}\n",
       "#T_711ab_row9_col13 {\n",
       "  background-color: #2a88bc;\n",
       "  color: #f1f1f1;\n",
       "}\n",
       "#T_711ab_row10_col0 {\n",
       "  background-color: #1e80b8;\n",
       "  color: #f1f1f1;\n",
       "}\n",
       "#T_711ab_row10_col2, #T_711ab_row12_col3, #T_711ab_row13_col0 {\n",
       "  background-color: #acc0dd;\n",
       "  color: #000000;\n",
       "}\n",
       "#T_711ab_row10_col3 {\n",
       "  background-color: #9fbad9;\n",
       "  color: #000000;\n",
       "}\n",
       "#T_711ab_row10_col4 {\n",
       "  background-color: #0d75b3;\n",
       "  color: #f1f1f1;\n",
       "}\n",
       "#T_711ab_row10_col5 {\n",
       "  background-color: #ece7f2;\n",
       "  color: #000000;\n",
       "}\n",
       "#T_711ab_row11_col3, #T_711ab_row12_col2 {\n",
       "  background-color: #7eadd1;\n",
       "  color: #f1f1f1;\n",
       "}\n",
       "#T_711ab_row11_col4 {\n",
       "  background-color: #d9d8ea;\n",
       "  color: #000000;\n",
       "}\n",
       "#T_711ab_row11_col5 {\n",
       "  background-color: #056ba9;\n",
       "  color: #f1f1f1;\n",
       "}\n",
       "#T_711ab_row11_col8, #T_711ab_row13_col7, #T_711ab_row15_col2 {\n",
       "  background-color: #a1bbda;\n",
       "  color: #000000;\n",
       "}\n",
       "#T_711ab_row11_col9 {\n",
       "  background-color: #dedcec;\n",
       "  color: #000000;\n",
       "}\n",
       "#T_711ab_row11_col10 {\n",
       "  background-color: #d7d6e9;\n",
       "  color: #000000;\n",
       "}\n",
       "#T_711ab_row12_col8, #T_711ab_row13_col5 {\n",
       "  background-color: #e6e2ef;\n",
       "  color: #000000;\n",
       "}\n",
       "#T_711ab_row12_col13 {\n",
       "  background-color: #ede8f3;\n",
       "  color: #000000;\n",
       "}\n",
       "#T_711ab_row13_col1 {\n",
       "  background-color: #8fb4d6;\n",
       "  color: #000000;\n",
       "}\n",
       "#T_711ab_row13_col2 {\n",
       "  background-color: #93b5d6;\n",
       "  color: #000000;\n",
       "}\n",
       "#T_711ab_row13_col4 {\n",
       "  background-color: #d0d1e6;\n",
       "  color: #000000;\n",
       "}\n",
       "#T_711ab_row13_col8, #T_711ab_row15_col3 {\n",
       "  background-color: #eae6f1;\n",
       "  color: #000000;\n",
       "}\n",
       "#T_711ab_row14_col0, #T_711ab_row14_col4, #T_711ab_row14_col10 {\n",
       "  background-color: #fef6fb;\n",
       "  color: #000000;\n",
       "}\n",
       "#T_711ab_row14_col3 {\n",
       "  background-color: #3b92c1;\n",
       "  color: #f1f1f1;\n",
       "}\n",
       "#T_711ab_row14_col7 {\n",
       "  background-color: #023c5f;\n",
       "  color: #f1f1f1;\n",
       "}\n",
       "#T_711ab_row14_col12 {\n",
       "  background-color: #fbf4f9;\n",
       "  color: #000000;\n",
       "}\n",
       "#T_711ab_row15_col0, #T_711ab_row15_col1 {\n",
       "  background-color: #0872b1;\n",
       "  color: #f1f1f1;\n",
       "}\n",
       "</style>\n",
       "<table id=\"T_711ab_\">\n",
       "  <thead>\n",
       "    <tr>\n",
       "      <th class=\"blank level0\" >&nbsp;</th>\n",
       "      <th class=\"col_heading level0 col0\" >Temperature (K)</th>\n",
       "      <th class=\"col_heading level0 col1\" >Luminosity(L/Lo)</th>\n",
       "      <th class=\"col_heading level0 col2\" >Radius(R/Ro)</th>\n",
       "      <th class=\"col_heading level0 col3\" >Absolute magnitude(Mv)</th>\n",
       "      <th class=\"col_heading level0 col4\" >Star color_Bluish</th>\n",
       "      <th class=\"col_heading level0 col5\" >Star color_Off-White</th>\n",
       "      <th class=\"col_heading level0 col6\" >Star color_Orange</th>\n",
       "      <th class=\"col_heading level0 col7\" >Star color_Red</th>\n",
       "      <th class=\"col_heading level0 col8\" >Star color_White</th>\n",
       "      <th class=\"col_heading level0 col9\" >Star color_Yellowish</th>\n",
       "      <th class=\"col_heading level0 col10\" >Spectral Class_B</th>\n",
       "      <th class=\"col_heading level0 col11\" >Spectral Class_F</th>\n",
       "      <th class=\"col_heading level0 col12\" >Spectral Class_G</th>\n",
       "      <th class=\"col_heading level0 col13\" >Spectral Class_K</th>\n",
       "      <th class=\"col_heading level0 col14\" >Spectral Class_M</th>\n",
       "      <th class=\"col_heading level0 col15\" >Spectral Class_O</th>\n",
       "    </tr>\n",
       "  </thead>\n",
       "  <tbody>\n",
       "    <tr>\n",
       "      <th id=\"T_711ab_level0_row0\" class=\"row_heading level0 row0\" >Temperature (K)</th>\n",
       "      <td id=\"T_711ab_row0_col0\" class=\"data row0 col0\" >1.000000</td>\n",
       "      <td id=\"T_711ab_row0_col1\" class=\"data row0 col1\" >0.393404</td>\n",
       "      <td id=\"T_711ab_row0_col2\" class=\"data row0 col2\" >0.064216</td>\n",
       "      <td id=\"T_711ab_row0_col3\" class=\"data row0 col3\" >-0.420261</td>\n",
       "      <td id=\"T_711ab_row0_col4\" class=\"data row0 col4\" >0.301424</td>\n",
       "      <td id=\"T_711ab_row0_col5\" class=\"data row0 col5\" >-0.066633</td>\n",
       "      <td id=\"T_711ab_row0_col6\" class=\"data row0 col6\" >-0.063838</td>\n",
       "      <td id=\"T_711ab_row0_col7\" class=\"data row0 col7\" >-0.711432</td>\n",
       "      <td id=\"T_711ab_row0_col8\" class=\"data row0 col8\" >-0.017000</td>\n",
       "      <td id=\"T_711ab_row0_col9\" class=\"data row0 col9\" >-0.072749</td>\n",
       "      <td id=\"T_711ab_row0_col10\" class=\"data row0 col10\" >0.463676</td>\n",
       "      <td id=\"T_711ab_row0_col11\" class=\"data row0 col11\" >-0.057368</td>\n",
       "      <td id=\"T_711ab_row0_col12\" class=\"data row0 col12\" >-0.024751</td>\n",
       "      <td id=\"T_711ab_row0_col13\" class=\"data row0 col13\" >-0.100755</td>\n",
       "      <td id=\"T_711ab_row0_col14\" class=\"data row0 col14\" >-0.704541</td>\n",
       "      <td id=\"T_711ab_row0_col15\" class=\"data row0 col15\" >0.553433</td>\n",
       "    </tr>\n",
       "    <tr>\n",
       "      <th id=\"T_711ab_level0_row1\" class=\"row_heading level0 row1\" >Luminosity(L/Lo)</th>\n",
       "      <td id=\"T_711ab_row1_col0\" class=\"data row1 col0\" >0.393404</td>\n",
       "      <td id=\"T_711ab_row1_col1\" class=\"data row1 col1\" >1.000000</td>\n",
       "      <td id=\"T_711ab_row1_col2\" class=\"data row1 col2\" >0.526516</td>\n",
       "      <td id=\"T_711ab_row1_col3\" class=\"data row1 col3\" >-0.692619</td>\n",
       "      <td id=\"T_711ab_row1_col4\" class=\"data row1 col4\" >-0.102692</td>\n",
       "      <td id=\"T_711ab_row1_col5\" class=\"data row1 col5\" >-0.143245</td>\n",
       "      <td id=\"T_711ab_row1_col6\" class=\"data row1 col6\" >0.179795</td>\n",
       "      <td id=\"T_711ab_row1_col7\" class=\"data row1 col7\" >-0.248634</td>\n",
       "      <td id=\"T_711ab_row1_col8\" class=\"data row1 col8\" >-0.015075</td>\n",
       "      <td id=\"T_711ab_row1_col9\" class=\"data row1 col9\" >-0.077934</td>\n",
       "      <td id=\"T_711ab_row1_col10\" class=\"data row1 col10\" >-0.078889</td>\n",
       "      <td id=\"T_711ab_row1_col11\" class=\"data row1 col11\" >-0.165280</td>\n",
       "      <td id=\"T_711ab_row1_col12\" class=\"data row1 col12\" >0.044004</td>\n",
       "      <td id=\"T_711ab_row1_col13\" class=\"data row1 col13\" >0.040074</td>\n",
       "      <td id=\"T_711ab_row1_col14\" class=\"data row1 col14\" >-0.237086</td>\n",
       "      <td id=\"T_711ab_row1_col15\" class=\"data row1 col15\" >0.557902</td>\n",
       "    </tr>\n",
       "    <tr>\n",
       "      <th id=\"T_711ab_level0_row2\" class=\"row_heading level0 row2\" >Radius(R/Ro)</th>\n",
       "      <td id=\"T_711ab_row2_col0\" class=\"data row2 col0\" >0.064216</td>\n",
       "      <td id=\"T_711ab_row2_col1\" class=\"data row2 col1\" >0.526516</td>\n",
       "      <td id=\"T_711ab_row2_col2\" class=\"data row2 col2\" >1.000000</td>\n",
       "      <td id=\"T_711ab_row2_col3\" class=\"data row2 col3\" >-0.608728</td>\n",
       "      <td id=\"T_711ab_row2_col4\" class=\"data row2 col4\" >-0.049781</td>\n",
       "      <td id=\"T_711ab_row2_col5\" class=\"data row2 col5\" >-0.109472</td>\n",
       "      <td id=\"T_711ab_row2_col6\" class=\"data row2 col6\" >0.163618</td>\n",
       "      <td id=\"T_711ab_row2_col7\" class=\"data row2 col7\" >0.080185</td>\n",
       "      <td id=\"T_711ab_row2_col8\" class=\"data row2 col8\" >0.006606</td>\n",
       "      <td id=\"T_711ab_row2_col9\" class=\"data row2 col9\" >-0.059650</td>\n",
       "      <td id=\"T_711ab_row2_col10\" class=\"data row2 col10\" >-0.033152</td>\n",
       "      <td id=\"T_711ab_row2_col11\" class=\"data row2 col11\" >-0.126585</td>\n",
       "      <td id=\"T_711ab_row2_col12\" class=\"data row2 col12\" >0.154147</td>\n",
       "      <td id=\"T_711ab_row2_col13\" class=\"data row2 col13\" >0.073935</td>\n",
       "      <td id=\"T_711ab_row2_col14\" class=\"data row2 col14\" >0.066032</td>\n",
       "      <td id=\"T_711ab_row2_col15\" class=\"data row2 col15\" >0.017883</td>\n",
       "    </tr>\n",
       "    <tr>\n",
       "      <th id=\"T_711ab_level0_row3\" class=\"row_heading level0 row3\" >Absolute magnitude(Mv)</th>\n",
       "      <td id=\"T_711ab_row3_col0\" class=\"data row3 col0\" >-0.420261</td>\n",
       "      <td id=\"T_711ab_row3_col1\" class=\"data row3 col1\" >-0.692619</td>\n",
       "      <td id=\"T_711ab_row3_col2\" class=\"data row3 col2\" >-0.608728</td>\n",
       "      <td id=\"T_711ab_row3_col3\" class=\"data row3 col3\" >1.000000</td>\n",
       "      <td id=\"T_711ab_row3_col4\" class=\"data row3 col4\" >-0.096008</td>\n",
       "      <td id=\"T_711ab_row3_col5\" class=\"data row3 col5\" >0.020542</td>\n",
       "      <td id=\"T_711ab_row3_col6\" class=\"data row3 col6\" >-0.058222</td>\n",
       "      <td id=\"T_711ab_row3_col7\" class=\"data row3 col7\" >0.337449</td>\n",
       "      <td id=\"T_711ab_row3_col8\" class=\"data row3 col8\" >0.086171</td>\n",
       "      <td id=\"T_711ab_row3_col9\" class=\"data row3 col9\" >0.043583</td>\n",
       "      <td id=\"T_711ab_row3_col10\" class=\"data row3 col10\" >-0.030567</td>\n",
       "      <td id=\"T_711ab_row3_col11\" class=\"data row3 col11\" >0.111102</td>\n",
       "      <td id=\"T_711ab_row3_col12\" class=\"data row3 col12\" >-0.088944</td>\n",
       "      <td id=\"T_711ab_row3_col13\" class=\"data row3 col13\" >-0.062693</td>\n",
       "      <td id=\"T_711ab_row3_col14\" class=\"data row3 col14\" >0.351736</td>\n",
       "      <td id=\"T_711ab_row3_col15\" class=\"data row3 col15\" >-0.467128</td>\n",
       "    </tr>\n",
       "    <tr>\n",
       "      <th id=\"T_711ab_level0_row4\" class=\"row_heading level0 row4\" >Star color_Bluish</th>\n",
       "      <td id=\"T_711ab_row4_col0\" class=\"data row4 col0\" >0.301424</td>\n",
       "      <td id=\"T_711ab_row4_col1\" class=\"data row4 col1\" >-0.102692</td>\n",
       "      <td id=\"T_711ab_row4_col2\" class=\"data row4 col2\" >-0.049781</td>\n",
       "      <td id=\"T_711ab_row4_col3\" class=\"data row4 col3\" >-0.096008</td>\n",
       "      <td id=\"T_711ab_row4_col4\" class=\"data row4 col4\" >1.000000</td>\n",
       "      <td id=\"T_711ab_row4_col5\" class=\"data row4 col5\" >-0.110218</td>\n",
       "      <td id=\"T_711ab_row4_col6\" class=\"data row4 col6\" >-0.051818</td>\n",
       "      <td id=\"T_711ab_row4_col7\" class=\"data row4 col7\" >-0.434440</td>\n",
       "      <td id=\"T_711ab_row4_col8\" class=\"data row4 col8\" >-0.096035</td>\n",
       "      <td id=\"T_711ab_row4_col9\" class=\"data row4 col9\" >-0.059961</td>\n",
       "      <td id=\"T_711ab_row4_col10\" class=\"data row4 col10\" >0.611517</td>\n",
       "      <td id=\"T_711ab_row4_col11\" class=\"data row4 col11\" >-0.127164</td>\n",
       "      <td id=\"T_711ab_row4_col12\" class=\"data row4 col12\" >-0.029792</td>\n",
       "      <td id=\"T_711ab_row4_col13\" class=\"data row4 col13\" >-0.073750</td>\n",
       "      <td id=\"T_711ab_row4_col14\" class=\"data row4 col14\" >-0.427227</td>\n",
       "      <td id=\"T_711ab_row4_col15\" class=\"data row4 col15\" >-0.205971</td>\n",
       "    </tr>\n",
       "    <tr>\n",
       "      <th id=\"T_711ab_level0_row5\" class=\"row_heading level0 row5\" >Star color_Off-White</th>\n",
       "      <td id=\"T_711ab_row5_col0\" class=\"data row5 col0\" >-0.066633</td>\n",
       "      <td id=\"T_711ab_row5_col1\" class=\"data row5 col1\" >-0.143245</td>\n",
       "      <td id=\"T_711ab_row5_col2\" class=\"data row5 col2\" >-0.109472</td>\n",
       "      <td id=\"T_711ab_row5_col3\" class=\"data row5 col3\" >0.020542</td>\n",
       "      <td id=\"T_711ab_row5_col4\" class=\"data row5 col4\" >-0.110218</td>\n",
       "      <td id=\"T_711ab_row5_col5\" class=\"data row5 col5\" >1.000000</td>\n",
       "      <td id=\"T_711ab_row5_col6\" class=\"data row5 col6\" >-0.026924</td>\n",
       "      <td id=\"T_711ab_row5_col7\" class=\"data row5 col7\" >-0.225734</td>\n",
       "      <td id=\"T_711ab_row5_col8\" class=\"data row5 col8\" >-0.049899</td>\n",
       "      <td id=\"T_711ab_row5_col9\" class=\"data row5 col9\" >-0.031155</td>\n",
       "      <td id=\"T_711ab_row5_col10\" class=\"data row5 col10\" >-0.069762</td>\n",
       "      <td id=\"T_711ab_row5_col11\" class=\"data row5 col11\" >0.723227</td>\n",
       "      <td id=\"T_711ab_row5_col12\" class=\"data row5 col12\" >-0.015480</td>\n",
       "      <td id=\"T_711ab_row5_col13\" class=\"data row5 col13\" >-0.038320</td>\n",
       "      <td id=\"T_711ab_row5_col14\" class=\"data row5 col14\" >-0.221986</td>\n",
       "      <td id=\"T_711ab_row5_col15\" class=\"data row5 col15\" >-0.107022</td>\n",
       "    </tr>\n",
       "    <tr>\n",
       "      <th id=\"T_711ab_level0_row6\" class=\"row_heading level0 row6\" >Star color_Orange</th>\n",
       "      <td id=\"T_711ab_row6_col0\" class=\"data row6 col0\" >-0.063838</td>\n",
       "      <td id=\"T_711ab_row6_col1\" class=\"data row6 col1\" >0.179795</td>\n",
       "      <td id=\"T_711ab_row6_col2\" class=\"data row6 col2\" >0.163618</td>\n",
       "      <td id=\"T_711ab_row6_col3\" class=\"data row6 col3\" >-0.058222</td>\n",
       "      <td id=\"T_711ab_row6_col4\" class=\"data row6 col4\" >-0.051818</td>\n",
       "      <td id=\"T_711ab_row6_col5\" class=\"data row6 col5\" >-0.026924</td>\n",
       "      <td id=\"T_711ab_row6_col6\" class=\"data row6 col6\" >1.000000</td>\n",
       "      <td id=\"T_711ab_row6_col7\" class=\"data row6 col7\" >-0.106126</td>\n",
       "      <td id=\"T_711ab_row6_col8\" class=\"data row6 col8\" >-0.023460</td>\n",
       "      <td id=\"T_711ab_row6_col9\" class=\"data row6 col9\" >-0.014647</td>\n",
       "      <td id=\"T_711ab_row6_col10\" class=\"data row6 col10\" >-0.054785</td>\n",
       "      <td id=\"T_711ab_row6_col11\" class=\"data row6 col11\" >0.115120</td>\n",
       "      <td id=\"T_711ab_row6_col12\" class=\"data row6 col12\" >-0.007278</td>\n",
       "      <td id=\"T_711ab_row6_col13\" class=\"data row6 col13\" >0.222195</td>\n",
       "      <td id=\"T_711ab_row6_col14\" class=\"data row6 col14\" >-0.029147</td>\n",
       "      <td id=\"T_711ab_row6_col15\" class=\"data row6 col15\" >-0.050315</td>\n",
       "    </tr>\n",
       "    <tr>\n",
       "      <th id=\"T_711ab_level0_row7\" class=\"row_heading level0 row7\" >Star color_Red</th>\n",
       "      <td id=\"T_711ab_row7_col0\" class=\"data row7 col0\" >-0.711432</td>\n",
       "      <td id=\"T_711ab_row7_col1\" class=\"data row7 col1\" >-0.248634</td>\n",
       "      <td id=\"T_711ab_row7_col2\" class=\"data row7 col2\" >0.080185</td>\n",
       "      <td id=\"T_711ab_row7_col3\" class=\"data row7 col3\" >0.337449</td>\n",
       "      <td id=\"T_711ab_row7_col4\" class=\"data row7 col4\" >-0.434440</td>\n",
       "      <td id=\"T_711ab_row7_col5\" class=\"data row7 col5\" >-0.225734</td>\n",
       "      <td id=\"T_711ab_row7_col6\" class=\"data row7 col6\" >-0.106126</td>\n",
       "      <td id=\"T_711ab_row7_col7\" class=\"data row7 col7\" >1.000000</td>\n",
       "      <td id=\"T_711ab_row7_col8\" class=\"data row7 col8\" >-0.196686</td>\n",
       "      <td id=\"T_711ab_row7_col9\" class=\"data row7 col9\" >-0.122804</td>\n",
       "      <td id=\"T_711ab_row7_col10\" class=\"data row7 col10\" >-0.459320</td>\n",
       "      <td id=\"T_711ab_row7_col11\" class=\"data row7 col11\" >-0.260441</td>\n",
       "      <td id=\"T_711ab_row7_col12\" class=\"data row7 col12\" >0.068575</td>\n",
       "      <td id=\"T_711ab_row7_col13\" class=\"data row7 col13\" >-0.044110</td>\n",
       "      <td id=\"T_711ab_row7_col14\" class=\"data row7 col14\" >0.966656</td>\n",
       "      <td id=\"T_711ab_row7_col15\" class=\"data row7 col15\" >-0.421844</td>\n",
       "    </tr>\n",
       "    <tr>\n",
       "      <th id=\"T_711ab_level0_row8\" class=\"row_heading level0 row8\" >Star color_White</th>\n",
       "      <td id=\"T_711ab_row8_col0\" class=\"data row8 col0\" >-0.017000</td>\n",
       "      <td id=\"T_711ab_row8_col1\" class=\"data row8 col1\" >-0.015075</td>\n",
       "      <td id=\"T_711ab_row8_col2\" class=\"data row8 col2\" >0.006606</td>\n",
       "      <td id=\"T_711ab_row8_col3\" class=\"data row8 col3\" >0.086171</td>\n",
       "      <td id=\"T_711ab_row8_col4\" class=\"data row8 col4\" >-0.096035</td>\n",
       "      <td id=\"T_711ab_row8_col5\" class=\"data row8 col5\" >-0.049899</td>\n",
       "      <td id=\"T_711ab_row8_col6\" class=\"data row8 col6\" >-0.023460</td>\n",
       "      <td id=\"T_711ab_row8_col7\" class=\"data row8 col7\" >-0.196686</td>\n",
       "      <td id=\"T_711ab_row8_col8\" class=\"data row8 col8\" >1.000000</td>\n",
       "      <td id=\"T_711ab_row8_col9\" class=\"data row8 col9\" >-0.027146</td>\n",
       "      <td id=\"T_711ab_row8_col10\" class=\"data row8 col10\" >-0.101535</td>\n",
       "      <td id=\"T_711ab_row8_col11\" class=\"data row8 col11\" >0.267538</td>\n",
       "      <td id=\"T_711ab_row8_col12\" class=\"data row8 col12\" >-0.013488</td>\n",
       "      <td id=\"T_711ab_row8_col13\" class=\"data row8 col13\" >-0.033389</td>\n",
       "      <td id=\"T_711ab_row8_col14\" class=\"data row8 col14\" >-0.193421</td>\n",
       "      <td id=\"T_711ab_row8_col15\" class=\"data row8 col15\" >-0.093250</td>\n",
       "    </tr>\n",
       "    <tr>\n",
       "      <th id=\"T_711ab_level0_row9\" class=\"row_heading level0 row9\" >Star color_Yellowish</th>\n",
       "      <td id=\"T_711ab_row9_col0\" class=\"data row9 col0\" >-0.072749</td>\n",
       "      <td id=\"T_711ab_row9_col1\" class=\"data row9 col1\" >-0.077934</td>\n",
       "      <td id=\"T_711ab_row9_col2\" class=\"data row9 col2\" >-0.059650</td>\n",
       "      <td id=\"T_711ab_row9_col3\" class=\"data row9 col3\" >0.043583</td>\n",
       "      <td id=\"T_711ab_row9_col4\" class=\"data row9 col4\" >-0.059961</td>\n",
       "      <td id=\"T_711ab_row9_col5\" class=\"data row9 col5\" >-0.031155</td>\n",
       "      <td id=\"T_711ab_row9_col6\" class=\"data row9 col6\" >-0.014647</td>\n",
       "      <td id=\"T_711ab_row9_col7\" class=\"data row9 col7\" >-0.122804</td>\n",
       "      <td id=\"T_711ab_row9_col8\" class=\"data row9 col8\" >-0.027146</td>\n",
       "      <td id=\"T_711ab_row9_col9\" class=\"data row9 col9\" >1.000000</td>\n",
       "      <td id=\"T_711ab_row9_col10\" class=\"data row9 col10\" >-0.063395</td>\n",
       "      <td id=\"T_711ab_row9_col11\" class=\"data row9 col11\" >0.090921</td>\n",
       "      <td id=\"T_711ab_row9_col12\" class=\"data row9 col12\" >-0.008421</td>\n",
       "      <td id=\"T_711ab_row9_col13\" class=\"data row9 col13\" >0.604560</td>\n",
       "      <td id=\"T_711ab_row9_col14\" class=\"data row9 col14\" >-0.120765</td>\n",
       "      <td id=\"T_711ab_row9_col15\" class=\"data row9 col15\" >-0.058222</td>\n",
       "    </tr>\n",
       "    <tr>\n",
       "      <th id=\"T_711ab_level0_row10\" class=\"row_heading level0 row10\" >Spectral Class_B</th>\n",
       "      <td id=\"T_711ab_row10_col0\" class=\"data row10 col0\" >0.463676</td>\n",
       "      <td id=\"T_711ab_row10_col1\" class=\"data row10 col1\" >-0.078889</td>\n",
       "      <td id=\"T_711ab_row10_col2\" class=\"data row10 col2\" >-0.033152</td>\n",
       "      <td id=\"T_711ab_row10_col3\" class=\"data row10 col3\" >-0.030567</td>\n",
       "      <td id=\"T_711ab_row10_col4\" class=\"data row10 col4\" >0.611517</td>\n",
       "      <td id=\"T_711ab_row10_col5\" class=\"data row10 col5\" >-0.069762</td>\n",
       "      <td id=\"T_711ab_row10_col6\" class=\"data row10 col6\" >-0.054785</td>\n",
       "      <td id=\"T_711ab_row10_col7\" class=\"data row10 col7\" >-0.459320</td>\n",
       "      <td id=\"T_711ab_row10_col8\" class=\"data row10 col8\" >-0.101535</td>\n",
       "      <td id=\"T_711ab_row10_col9\" class=\"data row10 col9\" >-0.063395</td>\n",
       "      <td id=\"T_711ab_row10_col10\" class=\"data row10 col10\" >1.000000</td>\n",
       "      <td id=\"T_711ab_row10_col11\" class=\"data row10 col11\" >-0.134447</td>\n",
       "      <td id=\"T_711ab_row10_col12\" class=\"data row10 col12\" >-0.031498</td>\n",
       "      <td id=\"T_711ab_row10_col13\" class=\"data row10 col13\" >-0.077973</td>\n",
       "      <td id=\"T_711ab_row10_col14\" class=\"data row10 col14\" >-0.451694</td>\n",
       "      <td id=\"T_711ab_row10_col15\" class=\"data row10 col15\" >-0.217767</td>\n",
       "    </tr>\n",
       "    <tr>\n",
       "      <th id=\"T_711ab_level0_row11\" class=\"row_heading level0 row11\" >Spectral Class_F</th>\n",
       "      <td id=\"T_711ab_row11_col0\" class=\"data row11 col0\" >-0.057368</td>\n",
       "      <td id=\"T_711ab_row11_col1\" class=\"data row11 col1\" >-0.165280</td>\n",
       "      <td id=\"T_711ab_row11_col2\" class=\"data row11 col2\" >-0.126585</td>\n",
       "      <td id=\"T_711ab_row11_col3\" class=\"data row11 col3\" >0.111102</td>\n",
       "      <td id=\"T_711ab_row11_col4\" class=\"data row11 col4\" >-0.127164</td>\n",
       "      <td id=\"T_711ab_row11_col5\" class=\"data row11 col5\" >0.723227</td>\n",
       "      <td id=\"T_711ab_row11_col6\" class=\"data row11 col6\" >0.115120</td>\n",
       "      <td id=\"T_711ab_row11_col7\" class=\"data row11 col7\" >-0.260441</td>\n",
       "      <td id=\"T_711ab_row11_col8\" class=\"data row11 col8\" >0.267538</td>\n",
       "      <td id=\"T_711ab_row11_col9\" class=\"data row11 col9\" >0.090921</td>\n",
       "      <td id=\"T_711ab_row11_col10\" class=\"data row11 col10\" >-0.134447</td>\n",
       "      <td id=\"T_711ab_row11_col11\" class=\"data row11 col11\" >1.000000</td>\n",
       "      <td id=\"T_711ab_row11_col12\" class=\"data row11 col12\" >-0.017860</td>\n",
       "      <td id=\"T_711ab_row11_col13\" class=\"data row11 col13\" >-0.044212</td>\n",
       "      <td id=\"T_711ab_row11_col14\" class=\"data row11 col14\" >-0.256117</td>\n",
       "      <td id=\"T_711ab_row11_col15\" class=\"data row11 col15\" >-0.123477</td>\n",
       "    </tr>\n",
       "    <tr>\n",
       "      <th id=\"T_711ab_level0_row12\" class=\"row_heading level0 row12\" >Spectral Class_G</th>\n",
       "      <td id=\"T_711ab_row12_col0\" class=\"data row12 col0\" >-0.024751</td>\n",
       "      <td id=\"T_711ab_row12_col1\" class=\"data row12 col1\" >0.044004</td>\n",
       "      <td id=\"T_711ab_row12_col2\" class=\"data row12 col2\" >0.154147</td>\n",
       "      <td id=\"T_711ab_row12_col3\" class=\"data row12 col3\" >-0.088944</td>\n",
       "      <td id=\"T_711ab_row12_col4\" class=\"data row12 col4\" >-0.029792</td>\n",
       "      <td id=\"T_711ab_row12_col5\" class=\"data row12 col5\" >-0.015480</td>\n",
       "      <td id=\"T_711ab_row12_col6\" class=\"data row12 col6\" >-0.007278</td>\n",
       "      <td id=\"T_711ab_row12_col7\" class=\"data row12 col7\" >0.068575</td>\n",
       "      <td id=\"T_711ab_row12_col8\" class=\"data row12 col8\" >-0.013488</td>\n",
       "      <td id=\"T_711ab_row12_col9\" class=\"data row12 col9\" >-0.008421</td>\n",
       "      <td id=\"T_711ab_row12_col10\" class=\"data row12 col10\" >-0.031498</td>\n",
       "      <td id=\"T_711ab_row12_col11\" class=\"data row12 col11\" >-0.017860</td>\n",
       "      <td id=\"T_711ab_row12_col12\" class=\"data row12 col12\" >1.000000</td>\n",
       "      <td id=\"T_711ab_row12_col13\" class=\"data row12 col13\" >-0.010358</td>\n",
       "      <td id=\"T_711ab_row12_col14\" class=\"data row12 col14\" >-0.060002</td>\n",
       "      <td id=\"T_711ab_row12_col15\" class=\"data row12 col15\" >-0.028928</td>\n",
       "    </tr>\n",
       "    <tr>\n",
       "      <th id=\"T_711ab_level0_row13\" class=\"row_heading level0 row13\" >Spectral Class_K</th>\n",
       "      <td id=\"T_711ab_row13_col0\" class=\"data row13 col0\" >-0.100755</td>\n",
       "      <td id=\"T_711ab_row13_col1\" class=\"data row13 col1\" >0.040074</td>\n",
       "      <td id=\"T_711ab_row13_col2\" class=\"data row13 col2\" >0.073935</td>\n",
       "      <td id=\"T_711ab_row13_col3\" class=\"data row13 col3\" >-0.062693</td>\n",
       "      <td id=\"T_711ab_row13_col4\" class=\"data row13 col4\" >-0.073750</td>\n",
       "      <td id=\"T_711ab_row13_col5\" class=\"data row13 col5\" >-0.038320</td>\n",
       "      <td id=\"T_711ab_row13_col6\" class=\"data row13 col6\" >0.222195</td>\n",
       "      <td id=\"T_711ab_row13_col7\" class=\"data row13 col7\" >-0.044110</td>\n",
       "      <td id=\"T_711ab_row13_col8\" class=\"data row13 col8\" >-0.033389</td>\n",
       "      <td id=\"T_711ab_row13_col9\" class=\"data row13 col9\" >0.604560</td>\n",
       "      <td id=\"T_711ab_row13_col10\" class=\"data row13 col10\" >-0.077973</td>\n",
       "      <td id=\"T_711ab_row13_col11\" class=\"data row13 col11\" >-0.044212</td>\n",
       "      <td id=\"T_711ab_row13_col12\" class=\"data row13 col12\" >-0.010358</td>\n",
       "      <td id=\"T_711ab_row13_col13\" class=\"data row13 col13\" >1.000000</td>\n",
       "      <td id=\"T_711ab_row13_col14\" class=\"data row13 col14\" >-0.148537</td>\n",
       "      <td id=\"T_711ab_row13_col15\" class=\"data row13 col15\" >-0.071611</td>\n",
       "    </tr>\n",
       "    <tr>\n",
       "      <th id=\"T_711ab_level0_row14\" class=\"row_heading level0 row14\" >Spectral Class_M</th>\n",
       "      <td id=\"T_711ab_row14_col0\" class=\"data row14 col0\" >-0.704541</td>\n",
       "      <td id=\"T_711ab_row14_col1\" class=\"data row14 col1\" >-0.237086</td>\n",
       "      <td id=\"T_711ab_row14_col2\" class=\"data row14 col2\" >0.066032</td>\n",
       "      <td id=\"T_711ab_row14_col3\" class=\"data row14 col3\" >0.351736</td>\n",
       "      <td id=\"T_711ab_row14_col4\" class=\"data row14 col4\" >-0.427227</td>\n",
       "      <td id=\"T_711ab_row14_col5\" class=\"data row14 col5\" >-0.221986</td>\n",
       "      <td id=\"T_711ab_row14_col6\" class=\"data row14 col6\" >-0.029147</td>\n",
       "      <td id=\"T_711ab_row14_col7\" class=\"data row14 col7\" >0.966656</td>\n",
       "      <td id=\"T_711ab_row14_col8\" class=\"data row14 col8\" >-0.193421</td>\n",
       "      <td id=\"T_711ab_row14_col9\" class=\"data row14 col9\" >-0.120765</td>\n",
       "      <td id=\"T_711ab_row14_col10\" class=\"data row14 col10\" >-0.451694</td>\n",
       "      <td id=\"T_711ab_row14_col11\" class=\"data row14 col11\" >-0.256117</td>\n",
       "      <td id=\"T_711ab_row14_col12\" class=\"data row14 col12\" >-0.060002</td>\n",
       "      <td id=\"T_711ab_row14_col13\" class=\"data row14 col13\" >-0.148537</td>\n",
       "      <td id=\"T_711ab_row14_col14\" class=\"data row14 col14\" >1.000000</td>\n",
       "      <td id=\"T_711ab_row14_col15\" class=\"data row14 col15\" >-0.414841</td>\n",
       "    </tr>\n",
       "    <tr>\n",
       "      <th id=\"T_711ab_level0_row15\" class=\"row_heading level0 row15\" >Spectral Class_O</th>\n",
       "      <td id=\"T_711ab_row15_col0\" class=\"data row15 col0\" >0.553433</td>\n",
       "      <td id=\"T_711ab_row15_col1\" class=\"data row15 col1\" >0.557902</td>\n",
       "      <td id=\"T_711ab_row15_col2\" class=\"data row15 col2\" >0.017883</td>\n",
       "      <td id=\"T_711ab_row15_col3\" class=\"data row15 col3\" >-0.467128</td>\n",
       "      <td id=\"T_711ab_row15_col4\" class=\"data row15 col4\" >-0.205971</td>\n",
       "      <td id=\"T_711ab_row15_col5\" class=\"data row15 col5\" >-0.107022</td>\n",
       "      <td id=\"T_711ab_row15_col6\" class=\"data row15 col6\" >-0.050315</td>\n",
       "      <td id=\"T_711ab_row15_col7\" class=\"data row15 col7\" >-0.421844</td>\n",
       "      <td id=\"T_711ab_row15_col8\" class=\"data row15 col8\" >-0.093250</td>\n",
       "      <td id=\"T_711ab_row15_col9\" class=\"data row15 col9\" >-0.058222</td>\n",
       "      <td id=\"T_711ab_row15_col10\" class=\"data row15 col10\" >-0.217767</td>\n",
       "      <td id=\"T_711ab_row15_col11\" class=\"data row15 col11\" >-0.123477</td>\n",
       "      <td id=\"T_711ab_row15_col12\" class=\"data row15 col12\" >-0.028928</td>\n",
       "      <td id=\"T_711ab_row15_col13\" class=\"data row15 col13\" >-0.071611</td>\n",
       "      <td id=\"T_711ab_row15_col14\" class=\"data row15 col14\" >-0.414841</td>\n",
       "      <td id=\"T_711ab_row15_col15\" class=\"data row15 col15\" >1.000000</td>\n",
       "    </tr>\n",
       "  </tbody>\n",
       "</table>\n"
      ],
      "text/plain": [
       "<pandas.io.formats.style.Styler at 0x27b57ff4190>"
      ]
     },
     "execution_count": 17,
     "metadata": {},
     "output_type": "execute_result"
    }
   ],
   "source": [
    "corr=stars.corr()\n",
    "corr.style.background_gradient(cmap='PuBu')"
   ]
  },
  {
   "cell_type": "markdown",
   "id": "5c0b6e3f",
   "metadata": {},
   "source": [
    "## Graphically Summarize the Data\n",
    "Let's summarize the numerical features graphically."
   ]
  },
  {
   "cell_type": "code",
   "execution_count": 18,
   "id": "a0b0475b",
   "metadata": {},
   "outputs": [
    {
     "data": {
      "text/plain": [
       "<seaborn.axisgrid.PairGrid at 0x27bcc519760>"
      ]
     },
     "execution_count": 18,
     "metadata": {},
     "output_type": "execute_result"
    },
    {
     "data": {
      "image/png": "[encoded data removed]",
      "text/plain": [
       "<Figure size 720x720 with 20 Axes>"
      ]
     },
     "metadata": {
      "needs_background": "light"
     },
     "output_type": "display_data"
    }
   ],
   "source": [
    "import seaborn as sns\n",
    "import warnings\n",
    "import matplotlib.pyplot as plt\n",
    "%matplotlib inline\n",
    "warnings.filterwarnings('ignore')\n",
    "warnings.simplefilter('ignore')\n",
    "\n",
    "sns.pairplot(stars[['Temperature (K)','Luminosity(L/Lo)', 'Radius(R/Ro)', 'Absolute magnitude(Mv)']], \n",
    "             diag_kind='kde')"
   ]
  },
  {
   "cell_type": "code",
   "execution_count": 19,
   "id": "7b90c0a5",
   "metadata": {},
   "outputs": [
    {
     "data": {
      "text/plain": [
       "<AxesSubplot:xlabel='Star type', ylabel='Temperature (K)'>"
      ]
     },
     "execution_count": 19,
     "metadata": {},
     "output_type": "execute_result"
    },
    {
     "data": {
      "image/png": "[encoded data removed]",
      "text/plain": [
       "<Figure size 432x288 with 1 Axes>"
      ]
     },
     "metadata": {
      "needs_background": "light"
     },
     "output_type": "display_data"
    }
   ],
   "source": [
    "sns.boxplot(x='Star type',y='Temperature (K)',data=stars)"
   ]
  },
  {
   "cell_type": "code",
   "execution_count": 20,
   "id": "d6f7583d",
   "metadata": {},
   "outputs": [
    {
     "data": {
      "text/plain": [
       "<AxesSubplot:xlabel='Star type', ylabel='Luminosity(L/Lo)'>"
      ]
     },
     "execution_count": 20,
     "metadata": {},
     "output_type": "execute_result"
    },
    {
     "data": {
      "image/png": "[encoded data removed]",
      "text/plain": [
       "<Figure size 432x288 with 1 Axes>"
      ]
     },
     "metadata": {
      "needs_background": "light"
     },
     "output_type": "display_data"
    }
   ],
   "source": [
    "sns.boxplot(x='Star type',y='Luminosity(L/Lo)',data=stars)"
   ]
  },
  {
   "cell_type": "code",
   "execution_count": 21,
   "id": "0ffdb312",
   "metadata": {},
   "outputs": [
    {
     "data": {
      "text/plain": [
       "<AxesSubplot:xlabel='Star type', ylabel='Radius(R/Ro)'>"
      ]
     },
     "execution_count": 21,
     "metadata": {},
     "output_type": "execute_result"
    },
    {
     "data": {
      "image/png": "[encoded data removed]",
      "text/plain": [
       "<Figure size 432x288 with 1 Axes>"
      ]
     },
     "metadata": {
      "needs_background": "light"
     },
     "output_type": "display_data"
    }
   ],
   "source": [
    "sns.boxplot(x='Star type',y='Radius(R/Ro)',data=stars)"
   ]
  },
  {
   "cell_type": "code",
   "execution_count": 22,
   "id": "1c3e9588",
   "metadata": {},
   "outputs": [
    {
     "data": {
      "text/plain": [
       "<AxesSubplot:xlabel='Star type', ylabel='Absolute magnitude(Mv)'>"
      ]
     },
     "execution_count": 22,
     "metadata": {},
     "output_type": "execute_result"
    },
    {
     "data": {
      "image/png": "[encoded data removed]",
      "text/plain": [
       "<Figure size 432x288 with 1 Axes>"
      ]
     },
     "metadata": {
      "needs_background": "light"
     },
     "output_type": "display_data"
    }
   ],
   "source": [
    "sns.boxplot(x='Star type',y='Absolute magnitude(Mv)',data=stars)"
   ]
  },
  {
   "cell_type": "markdown",
   "id": "771234da",
   "metadata": {},
   "source": [
    "## Split the Data Into Training and Test Data Set\n",
    "\n",
    "Before I split the data into a 80/20 split, I need to reduce the size of the data to reduce the time it will take to train later on. Afterwards I will need first to combine all features into $X$ and select the label column as $y$."
   ]
  },
  {
   "cell_type": "code",
   "execution_count": 23,
   "id": "1f702373",
   "metadata": {},
   "outputs": [
    {
     "name": "stdout",
     "output_type": "stream",
     "text": [
      "Training cases: 192\n",
      "Test cases: 48\n"
     ]
    }
   ],
   "source": [
    "X = stars.drop('Star type',axis=1)\n",
    "y = stars['Star type']\n",
    "\n",
    "from sklearn.model_selection import train_test_split\n",
    "X_train, X_test, y_train, y_test = train_test_split(X, y, test_size=0.2, \n",
    "                                                    random_state = 0, stratify=y)\n",
    "print ('Training cases: %d\\nTest cases: %d' % (X_train.shape[0], X_test.shape[0]))"
   ]
  },
  {
   "cell_type": "code",
   "execution_count": 24,
   "id": "3fa4a1f6",
   "metadata": {},
   "outputs": [
    {
     "data": {
      "text/plain": [
       "0    8\n",
       "1    8\n",
       "2    8\n",
       "3    8\n",
       "4    8\n",
       "5    8\n",
       "Name: Star type, dtype: int64"
      ]
     },
     "execution_count": 24,
     "metadata": {},
     "output_type": "execute_result"
    }
   ],
   "source": [
    "y_test.value_counts()"
   ]
  },
  {
   "cell_type": "code",
   "execution_count": 25,
   "id": "0e492161",
   "metadata": {
    "scrolled": true
   },
   "outputs": [
    {
     "data": {
      "text/plain": [
       "0    32\n",
       "1    32\n",
       "2    32\n",
       "3    32\n",
       "4    32\n",
       "5    32\n",
       "Name: Star type, dtype: int64"
      ]
     },
     "execution_count": 25,
     "metadata": {},
     "output_type": "execute_result"
    }
   ],
   "source": [
    "y_train.value_counts()"
   ]
  },
  {
   "cell_type": "markdown",
   "id": "99ce694e",
   "metadata": {},
   "source": [
    "### Train and evaluate a multiclass classifier\n",
    "\n",
    "Now that we have a set of training features and corresponding training labels, we can fit a multiclass classification algorithm to the data to create a model. Most scikit-learn classification algorithms inherently support multiclass classification. We'll try a logistic regression algorithm."
   ]
  },
  {
   "cell_type": "code",
   "execution_count": 26,
   "id": "b1d8e295",
   "metadata": {},
   "outputs": [
    {
     "name": "stdout",
     "output_type": "stream",
     "text": [
      "LogisticRegression(C=10.0, max_iter=10000)\n"
     ]
    }
   ],
   "source": [
    "from sklearn.linear_model import LogisticRegression\n",
    "reg = 0.1\n",
    "multi_model = LogisticRegression(C=1/reg, solver='lbfgs', \n",
    "                                 multi_class='auto', max_iter=10000).fit(X_train, y_train)\n",
    "print (multi_model)"
   ]
  },
  {
   "cell_type": "code",
   "execution_count": 27,
   "id": "f0a5e541",
   "metadata": {},
   "outputs": [
    {
     "name": "stdout",
     "output_type": "stream",
     "text": [
      "Predicted labels:  [4 4 2 4 4 1 0 2 4 1 0 0 1 3 2]\n",
      "Actual labels   :  42     4\n",
      "228    4\n",
      "24     2\n",
      "109    4\n",
      "43     4\n",
      "191    1\n",
      "188    0\n",
      "23     2\n",
      "214    3\n",
      "10     1\n",
      "0      0\n",
      "6      0\n",
      "70     1\n",
      "98     3\n",
      "82     2\n",
      "Name: Star type, dtype: category\n",
      "Categories (6, int64): [0, 1, 2, 3, 4, 5]\n"
     ]
    }
   ],
   "source": [
    "predictions = multi_model.predict(X_test)\n",
    "print('Predicted labels: ', predictions[:15])\n",
    "print('Actual labels   : ' ,y_test[:15])"
   ]
  },
  {
   "cell_type": "code",
   "execution_count": 28,
   "id": "f530558e",
   "metadata": {},
   "outputs": [
    {
     "name": "stdout",
     "output_type": "stream",
     "text": [
      "              precision    recall  f1-score   support\n",
      "\n",
      "           0       1.00      1.00      1.00         8\n",
      "           1       1.00      1.00      1.00         8\n",
      "           2       1.00      1.00      1.00         8\n",
      "           3       1.00      0.75      0.86         8\n",
      "           4       0.80      1.00      0.89         8\n",
      "           5       1.00      1.00      1.00         8\n",
      "\n",
      "    accuracy                           0.96        48\n",
      "   macro avg       0.97      0.96      0.96        48\n",
      "weighted avg       0.97      0.96      0.96        48\n",
      "\n"
     ]
    }
   ],
   "source": [
    "from sklearn. metrics import classification_report\n",
    "print(classification_report(y_test, predictions))"
   ]
  },
  {
   "cell_type": "code",
   "execution_count": 29,
   "id": "9913bd74",
   "metadata": {},
   "outputs": [
    {
     "name": "stdout",
     "output_type": "stream",
     "text": [
      "Overall Accuracy: 0.9583333333333334\n",
      "Overall Precision: 0.9666666666666667\n",
      "Overall Recall: 0.9583333333333334\n"
     ]
    }
   ],
   "source": [
    "from sklearn.metrics import accuracy_score, precision_score, recall_score\n",
    "\n",
    "print(\"Overall Accuracy:\",accuracy_score(y_test, predictions))\n",
    "print(\"Overall Precision:\",precision_score(y_test, predictions, average='macro'))\n",
    "print(\"Overall Recall:\",recall_score(y_test, predictions, average='macro'))"
   ]
  },
  {
   "cell_type": "code",
   "execution_count": 30,
   "id": "0c1f4d1b",
   "metadata": {},
   "outputs": [
    {
     "name": "stdout",
     "output_type": "stream",
     "text": [
      "[[8 0 0 0 0 0]\n",
      " [0 8 0 0 0 0]\n",
      " [0 0 8 0 0 0]\n",
      " [0 0 0 6 2 0]\n",
      " [0 0 0 0 8 0]\n",
      " [0 0 0 0 0 8]]\n"
     ]
    }
   ],
   "source": [
    "from sklearn.metrics import confusion_matrix\n",
    "\n",
    "mcm = confusion_matrix(y_test, predictions)\n",
    "print(mcm)"
   ]
  },
  {
   "cell_type": "code",
   "execution_count": 31,
   "id": "8ac1612f",
   "metadata": {},
   "outputs": [],
   "source": [
    "classes = ['Brown Dwarf', 'Red Dwarf', 'White Dwarf', 'Main Sequence', 'Supergiant', 'Hypergiant']"
   ]
  },
  {
   "cell_type": "code",
   "execution_count": 32,
   "id": "5c0fd54c",
   "metadata": {},
   "outputs": [
    {
     "data": {
      "image/png": "[encoded data removed]",
      "text/plain": [
       "<Figure size 432x288 with 2 Axes>"
      ]
     },
     "metadata": {
      "needs_background": "light"
     },
     "output_type": "display_data"
    }
   ],
   "source": [
    "import numpy as np\n",
    "import matplotlib.pyplot as plt\n",
    "%matplotlib inline\n",
    "\n",
    "plt.imshow(mcm, interpolation=\"nearest\", cmap=plt.cm.Blues)\n",
    "plt.colorbar()\n",
    "tick_marks = np.arange(len(classes))\n",
    "plt.xticks(tick_marks, classes, rotation=45)\n",
    "plt.yticks(tick_marks, classes)\n",
    "plt.xlabel(\"Predicted Stars\")\n",
    "plt.ylabel(\"Actual Stars\")\n",
    "plt.show()"
   ]
  },
  {
   "cell_type": "markdown",
   "id": "76f907ba",
   "metadata": {},
   "source": [
    "The darker squares in the confusion matrix plot indicate high numbers of cases, and you can hopefully see a diagonal line of darker squares indicating cases where the predicted and actual label are the same.\n",
    "\n",
    "In the case of a multiclass classification model, a single ROC curve showing true positive rate vs false positive rate is not possible. However, you can use the rates for each class in a One vs Rest (OVR) comparison to create a ROC chart for each class."
   ]
  },
  {
   "cell_type": "code",
   "execution_count": 33,
   "id": "92ec2277",
   "metadata": {},
   "outputs": [
    {
     "data": {
      "image/png": "[encoded data removed]",
      "text/plain": [
       "<Figure size 432x288 with 1 Axes>"
      ]
     },
     "metadata": {
      "needs_background": "light"
     },
     "output_type": "display_data"
    }
   ],
   "source": [
    "from sklearn.metrics import roc_curve\n",
    "from sklearn.metrics import roc_auc_score\n",
    "\n",
    "prob = multi_model.predict_proba(X_test)\n",
    "\n",
    "fpr = {}\n",
    "tpr = {}\n",
    "thresh ={}\n",
    "for i in range(len(classes)):    \n",
    "    fpr[i], tpr[i], thresh[i] = roc_curve(y_test, prob[:,i], pos_label=i)\n",
    "    \n",
    "# Plot the ROC chart\n",
    "plt.plot(fpr[0], tpr[0], linestyle='--',color='orange', label=classes[0] + ' vs Rest')\n",
    "plt.plot(fpr[1], tpr[1], linestyle='--',color='green', label=classes[1] + ' vs Rest')\n",
    "plt.plot(fpr[2], tpr[2], linestyle='--',color='blue', label=classes[2] + ' vs Rest')\n",
    "plt.plot(fpr[0], tpr[0], linestyle='--',color='red', label=classes[3] + ' vs Rest')\n",
    "plt.plot(fpr[1], tpr[1], linestyle='--',color='yellow', label=classes[4] + ' vs Rest')\n",
    "plt.plot(fpr[2], tpr[2], linestyle='--',color='black', label=classes[5] + ' vs Rest')\n",
    "plt.title('Multiclass ROC curve')\n",
    "plt.xlabel('False Positive Rate')\n",
    "plt.ylabel('True Positive rate')\n",
    "plt.legend(loc='best')\n",
    "plt.show()"
   ]
  },
  {
   "cell_type": "markdown",
   "id": "da2e1636",
   "metadata": {},
   "source": [
    "To quantify the ROC performance, you can calculate an aggregate area under the curve score that is averaged across all of the OVR curves."
   ]
  },
  {
   "cell_type": "code",
   "execution_count": 34,
   "id": "173bf785",
   "metadata": {},
   "outputs": [
    {
     "name": "stdout",
     "output_type": "stream",
     "text": [
      "Average AUC: 0.9656250000000001\n"
     ]
    }
   ],
   "source": [
    "auc = roc_auc_score(y_test,prob, multi_class='ovr')\n",
    "print('Average AUC:', auc)"
   ]
  },
  {
   "cell_type": "markdown",
   "id": "737a8e8e",
   "metadata": {},
   "source": [
    "## Preprocess data in a pipeline\n",
    "\n",
    "Using a pipeline to apply preprocessing steps to the data before fitting it to an algorithm to train a model. Let's see if we can improve the predictor by scaling the numeric features in a transformation steps before training. We'll also try a different algorithm (a support vector machine), just to show that we can!"
   ]
  },
  {
   "cell_type": "code",
   "execution_count": 35,
   "id": "87b96d22",
   "metadata": {},
   "outputs": [
    {
     "name": "stdout",
     "output_type": "stream",
     "text": [
      "Pipeline(steps=[('preprocessor',\n",
      "                 ColumnTransformer(transformers=[('preprocess',\n",
      "                                                  Pipeline(steps=[('scaler',\n",
      "                                                                   StandardScaler())]),\n",
      "                                                  [0, 1, 2, 3, 4, 5])])),\n",
      "                ('regressor', SVC(probability=True))])\n"
     ]
    }
   ],
   "source": [
    "from sklearn.preprocessing import StandardScaler\n",
    "from sklearn.compose import ColumnTransformer\n",
    "from sklearn.pipeline import Pipeline\n",
    "from sklearn.svm import SVC\n",
    "\n",
    "# Define preprocessing for numeric columns (scale them)\n",
    "feature_columns = [0,1,2,3,4,5]\n",
    "feature_transformer = Pipeline(steps=[\n",
    "    ('scaler', StandardScaler())\n",
    "    ])\n",
    "\n",
    "# Create preprocessing steps\n",
    "preprocessor = ColumnTransformer(\n",
    "    transformers=[\n",
    "        ('preprocess', feature_transformer, feature_columns)])\n",
    "\n",
    "# Create training pipeline\n",
    "pipeline = Pipeline(steps=[('preprocessor', preprocessor),\n",
    "                           ('regressor', SVC(probability=True))])\n",
    "\n",
    "\n",
    "# fit the pipeline to train a linear regression model on the training set\n",
    "multi_model = pipeline.fit(X_train, y_train)\n",
    "print (multi_model)"
   ]
  },
  {
   "cell_type": "markdown",
   "id": "f5690fbf",
   "metadata": {},
   "source": [
    "Now we can evaluate the new model."
   ]
  },
  {
   "cell_type": "code",
   "execution_count": 36,
   "id": "c35fd2bb",
   "metadata": {
    "scrolled": false
   },
   "outputs": [
    {
     "name": "stdout",
     "output_type": "stream",
     "text": [
      "Overall Accuracy: 0.9166666666666666\n",
      "Overall Precision: 0.9333333333333332\n",
      "Overall Recall: 0.9166666666666666\n",
      "Average AUC: 1.0\n",
      "              precision    recall  f1-score   support\n",
      "\n",
      "           0       1.00      1.00      1.00         8\n",
      "           1       0.80      1.00      0.89         8\n",
      "           2       1.00      0.75      0.86         8\n",
      "           3       1.00      0.75      0.86         8\n",
      "           4       0.80      1.00      0.89         8\n",
      "           5       1.00      1.00      1.00         8\n",
      "\n",
      "    accuracy                           0.92        48\n",
      "   macro avg       0.93      0.92      0.92        48\n",
      "weighted avg       0.93      0.92      0.92        48\n",
      "\n"
     ]
    },
    {
     "data": {
      "image/png": "[encoded data removed]",
      "text/plain": [
       "<Figure size 432x288 with 2 Axes>"
      ]
     },
     "metadata": {
      "needs_background": "light"
     },
     "output_type": "display_data"
    }
   ],
   "source": [
    "predictions = multi_model.predict(X_test)\n",
    "prob = multi_model.predict_proba(X_test)\n",
    "\n",
    "print(\"Overall Accuracy:\",accuracy_score(y_test, predictions))\n",
    "print(\"Overall Precision:\",precision_score(y_test, predictions, average='macro'))\n",
    "print(\"Overall Recall:\",recall_score(y_test, predictions, average='macro'))\n",
    "print('Average AUC:', roc_auc_score(y_test, prob, multi_class='ovr'))\n",
    "print(classification_report(y_test, predictions))\n",
    "\n",
    "plt.imshow(mcm, interpolation=\"nearest\", cmap=plt.cm.Blues)\n",
    "plt.colorbar()\n",
    "tick_marks = np.arange(len(classes))\n",
    "plt.xticks(tick_marks, classes, rotation=45)\n",
    "plt.yticks(tick_marks, classes)\n",
    "plt.xlabel(\"Predicted Species\")\n",
    "plt.ylabel(\"Actual Species\")\n",
    "plt.show()"
   ]
  },
  {
   "cell_type": "markdown",
   "id": "0aca39f9",
   "metadata": {},
   "source": [
    "Now, let's give a Random Forest Algorithm a chance."
   ]
  },
  {
   "cell_type": "code",
   "execution_count": 37,
   "id": "2ef1e9a2",
   "metadata": {},
   "outputs": [
    {
     "name": "stdout",
     "output_type": "stream",
     "text": [
      "Pipeline(steps=[('preprocessor',\n",
      "                 ColumnTransformer(transformers=[('preprocess',\n",
      "                                                  Pipeline(steps=[('scaler',\n",
      "                                                                   StandardScaler())]),\n",
      "                                                  [0, 1, 2, 3, 4, 5])])),\n",
      "                ('logregressor', RandomForestClassifier())])\n"
     ]
    }
   ],
   "source": [
    "from sklearn.ensemble import RandomForestClassifier\n",
    "pipeline = Pipeline(steps=[('preprocessor', preprocessor),\n",
    "                           ('logregressor', RandomForestClassifier(n_estimators=100))])\n",
    "model = pipeline.fit(X_train, (y_train))\n",
    "print (model)"
   ]
  },
  {
   "cell_type": "code",
   "execution_count": 38,
   "id": "6327bf21",
   "metadata": {},
   "outputs": [
    {
     "name": "stdout",
     "output_type": "stream",
     "text": [
      "Overall Accuracy: 1.0\n",
      "Overall Precision: 1.0\n",
      "Overall Recall: 1.0\n",
      "Average AUC: 1.0\n",
      "              precision    recall  f1-score   support\n",
      "\n",
      "           0       1.00      1.00      1.00         8\n",
      "           1       1.00      1.00      1.00         8\n",
      "           2       1.00      1.00      1.00         8\n",
      "           3       1.00      1.00      1.00         8\n",
      "           4       1.00      1.00      1.00         8\n",
      "           5       1.00      1.00      1.00         8\n",
      "\n",
      "    accuracy                           1.00        48\n",
      "   macro avg       1.00      1.00      1.00        48\n",
      "weighted avg       1.00      1.00      1.00        48\n",
      "\n"
     ]
    },
    {
     "data": {
      "image/png": "[encoded data removed]",
      "text/plain": [
       "<Figure size 432x288 with 2 Axes>"
      ]
     },
     "metadata": {
      "needs_background": "light"
     },
     "output_type": "display_data"
    }
   ],
   "source": [
    "predictions = model.predict(X_test)\n",
    "y_scores = model.predict_proba(X_test)\n",
    "cm = confusion_matrix(y_test, predictions)\n",
    "\n",
    "print(\"Overall Accuracy:\",accuracy_score(y_test, predictions))\n",
    "print(\"Overall Precision:\",precision_score(y_test, predictions, average='macro'))\n",
    "print(\"Overall Recall:\",recall_score(y_test, predictions, average='macro'))\n",
    "print('Average AUC:', roc_auc_score(y_test, prob, multi_class='ovr'))\n",
    "print(classification_report(y_test, predictions))\n",
    "\n",
    "plt.imshow(mcm, interpolation=\"nearest\", cmap=plt.cm.Blues)\n",
    "plt.colorbar()\n",
    "tick_marks = np.arange(len(classes))\n",
    "plt.xticks(tick_marks, classes, rotation=45)\n",
    "plt.yticks(tick_marks, classes)\n",
    "plt.xlabel(\"Predicted Species\")\n",
    "plt.ylabel(\"Actual Species\")\n",
    "plt.show()"
   ]
  },
  {
   "cell_type": "markdown",
   "id": "0d3a18dc",
   "metadata": {},
   "source": [
    "## Conclusion:"
   ]
  },
  {
   "cell_type": "markdown",
   "id": "24859fab",
   "metadata": {},
   "source": [
    "Reviewing and comparing each algorithm, the random forest algo. performed the best with an accuracy, precision, and f1-score values of 1.0 (or 100%). While the logistical regression algo. performed the second best with an accuracy of ~0.958, precision of ~0.966, and f1-score values > 0.85. The SVC had the worst out of the three, however still performed well. SVC performed with an accuracy of 0.916, a precision value of 0.933 and f1-score values > 0.86. These values, of course were trained on a small dataset and may or not be effective at predicting larger datasets. This of course can be resolved by reviewing the cleaning data steps, identifying potential errors, rerunning the algorithms, and identifying which algo. worked the best. "
   ]
  }
 ],
 "metadata": {
  "kernelspec": {
   "display_name": "Python 3",
   "language": "python",
   "name": "python3"
  },
  "language_info": {
   "codemirror_mode": {
    "name": "ipython",
    "version": 3
   },
   "file_extension": ".py",
   "mimetype": "text/x-python",
   "name": "python",
   "nbconvert_exporter": "python",
   "pygments_lexer": "ipython3",
   "version": "3.8.8"
  }
 },
 "nbformat": 4,
 "nbformat_minor": 5
}
